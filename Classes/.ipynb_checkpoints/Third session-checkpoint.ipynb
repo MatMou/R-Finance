{
 "cells": [
  {
   "cell_type": "markdown",
   "metadata": {},
   "source": [
    "### 1. How to simulate the future price of an asset using Geometric Brownian Motion ?"
   ]
  },
  {
   "cell_type": "code",
   "execution_count": 2,
   "metadata": {},
   "outputs": [],
   "source": [
    "library(ggplot2)\n",
    "library(quantmod)\n",
    "library(reshape)\n",
    "library(arrayhelpers)\n",
    "options(repr.plot.width=7, repr.plot.height=3)"
   ]
  },
  {
   "cell_type": "markdown",
   "metadata": {},
   "source": [
    "We start by a reminder of what Geometric Brownian Motion is. In mathematical terms: \n",
    "\n",
    "<br>\n",
    "\n",
    "$ \\frac{dS_t}{S_t} = \\mu dt + \\sigma  \\sqrt{dt}  \\epsilon $ \n",
    "\n",
    "<br>\n",
    "\n",
    "Please remember that $\\mu, \\sigma$ are, respectively, the mean and standard deviation of **returns**. \n",
    "\n",
    "Using the Euler-Maruyama method, we can find a approximation of the differential equation above and define $dS_t$ as being  $S_{t+1} - S_t$, we get : \n",
    "\n",
    "<br>\n",
    "\n",
    "$ S_{t+1} = S_t(1 + \\mu dt + \\sigma \\sqrt{dt} \\epsilon) $ \n",
    "\n",
    "<br>\n",
    "\n",
    "The procedure of Monte-Carlo in order to simulate future price is to create different *price paths* and then compute their average. We will see how well the procedure works for predicting future price of an asset. \n",
    "\n",
    "We create a dataframe that will have for first column the dates of each prices of FB. In the second row we will find the price of FB and all other columns specified by the variable **nb_mc** will be simulations. "
   ]
  },
  {
   "cell_type": "code",
   "execution_count": 4,
   "metadata": {},
   "outputs": [],
   "source": [
    "nb_mc = 50\n",
    "df_mc = data.frame(matrix(NA, nrow=500, ncol=nb_mc))\n",
    "\n",
    "x = getSymbols('FB', env=NULL )\n",
    "\n",
    "#take only the 500 last points of the data\n",
    "df_mc[,1]= tail(index(x), 500)\n",
    "df_mc[,2] = tail(x[, 6], 500)\n",
    "\n",
    "#get the mean and std of returns\n",
    "mu= mean(diff(log(df_mc[,2])), na.rm=T)\n",
    "sigma = sd(diff(log(df_mc[,2])), na.rm=T)\n"
   ]
  },
  {
   "cell_type": "markdown",
   "metadata": {},
   "source": [
    "Here the code get sligthly more messy. We need to go through each increment of the price (rows) and this each paths that we want to simulate (columns). The first loop moves us through the columns. We start from the third since the two first columns of our dataframe contains the dates and prices of FB. And up to **nb_mc** minus one because we will use the last column to compute the average of the simulations.\n",
    "\n",
    "The second loop moves us through the rows. We start from the 250th step so we get the price paths starting the 250th date. \n",
    "\n",
    "This statement: `df_mc[249,j] = df_mc[249,2]` insure that the initial price point for all path is the same and equal to the real price path. \n",
    "\n",
    "\n",
    "The function `apply()` allow us to use a function and generalize it for a matrix. By specifying the MARGIN parameter ( if 1: ROWS, if 2: COLUMNS). We create for the last column the average path: the result from our Monte-Carlo procedure. "
   ]
  },
  {
   "cell_type": "code",
   "execution_count": 5,
   "metadata": {},
   "outputs": [
    {
     "data": {
      "text/html": [
       "<table>\n",
       "<thead><tr><th></th><th scope=col>X1</th><th scope=col>X2</th><th scope=col>X3</th><th scope=col>X4</th><th scope=col>X5</th><th scope=col>X6</th><th scope=col>X7</th><th scope=col>X8</th><th scope=col>X9</th><th scope=col>X10</th><th scope=col>...</th><th scope=col>X41</th><th scope=col>X42</th><th scope=col>X43</th><th scope=col>X44</th><th scope=col>X45</th><th scope=col>X46</th><th scope=col>X47</th><th scope=col>X48</th><th scope=col>X49</th><th scope=col>X50</th></tr></thead>\n",
       "<tbody>\n",
       "\t<tr><th scope=row>495</th><td>2020-02-06</td><td>210.85    </td><td>343.1984  </td><td>167.9008  </td><td>214.1528  </td><td>176.1501  </td><td>185.8090  </td><td>242.7284  </td><td>113.2791  </td><td>203.1888  </td><td>...       </td><td>201.4199  </td><td>123.1805  </td><td>99.28669  </td><td>132.4078  </td><td>159.5420  </td><td>287.2691  </td><td>340.1109  </td><td>362.4138  </td><td>166.3389  </td><td>197.2244  </td></tr>\n",
       "\t<tr><th scope=row>496</th><td>2020-02-07</td><td>212.33    </td><td>331.7684  </td><td>173.4711  </td><td>211.7074  </td><td>168.8941  </td><td>183.0167  </td><td>238.8413  </td><td>110.6409  </td><td>195.4709  </td><td>...       </td><td>201.7620  </td><td>122.5414  </td><td>94.39965  </td><td>134.5309  </td><td>156.4347  </td><td>289.8464  </td><td>336.6686  </td><td>362.0023  </td><td>164.6086  </td><td>197.1601  </td></tr>\n",
       "\t<tr><th scope=row>497</th><td>2020-02-10</td><td>213.06    </td><td>334.0389  </td><td>171.0160  </td><td>201.8525  </td><td>167.9478  </td><td>183.8048  </td><td>241.3207  </td><td>110.8956  </td><td>198.5085  </td><td>...       </td><td>206.1627  </td><td>124.2383  </td><td>92.09282  </td><td>131.4464  </td><td>154.0973  </td><td>292.9699  </td><td>348.9527  </td><td>364.7651  </td><td>170.9064  </td><td>198.6429  </td></tr>\n",
       "\t<tr><th scope=row>498</th><td>2020-02-11</td><td>207.19    </td><td>344.0230  </td><td>168.8828  </td><td>204.0445  </td><td>169.0395  </td><td>189.4574  </td><td>235.0420  </td><td>113.0062  </td><td>193.3878  </td><td>...       </td><td>215.2830  </td><td>127.3918  </td><td>90.87736  </td><td>131.7964  </td><td>155.5653  </td><td>288.1454  </td><td>350.6193  </td><td>363.7457  </td><td>173.8177  </td><td>198.8484  </td></tr>\n",
       "\t<tr><th scope=row>499</th><td>2020-02-12</td><td>210.76    </td><td>335.4923  </td><td>169.4725  </td><td>198.5759  </td><td>167.6559  </td><td>197.1132  </td><td>239.9137  </td><td>111.7324  </td><td>194.1799  </td><td>...       </td><td>216.0543  </td><td>130.7836  </td><td>87.80600  </td><td>129.7025  </td><td>157.2156  </td><td>286.8950  </td><td>346.8715  </td><td>371.4887  </td><td>172.6899  </td><td>199.4290  </td></tr>\n",
       "\t<tr><th scope=row>500</th><td>2020-02-13</td><td>213.14    </td><td>330.5760  </td><td>169.0630  </td><td>194.9054  </td><td>166.5975  </td><td>193.8874  </td><td>236.8107  </td><td>111.4269  </td><td>198.3291  </td><td>...       </td><td>214.0810  </td><td>130.7535  </td><td>92.27906  </td><td>128.5421  </td><td>159.5029  </td><td>295.1180  </td><td>342.6298  </td><td>359.1652  </td><td>173.6375  </td><td>199.6777  </td></tr>\n",
       "</tbody>\n",
       "</table>\n"
      ],
      "text/latex": [
       "\\begin{tabular}{r|llllllllllllllllllllllllllllllllllllllllllllllllll}\n",
       "  & X1 & X2 & X3 & X4 & X5 & X6 & X7 & X8 & X9 & X10 & ... & X41 & X42 & X43 & X44 & X45 & X46 & X47 & X48 & X49 & X50\\\\\n",
       "\\hline\n",
       "\t495 & 2020-02-06 & 210.85     & 343.1984   & 167.9008   & 214.1528   & 176.1501   & 185.8090   & 242.7284   & 113.2791   & 203.1888   & ...        & 201.4199   & 123.1805   & 99.28669   & 132.4078   & 159.5420   & 287.2691   & 340.1109   & 362.4138   & 166.3389   & 197.2244  \\\\\n",
       "\t496 & 2020-02-07 & 212.33     & 331.7684   & 173.4711   & 211.7074   & 168.8941   & 183.0167   & 238.8413   & 110.6409   & 195.4709   & ...        & 201.7620   & 122.5414   & 94.39965   & 134.5309   & 156.4347   & 289.8464   & 336.6686   & 362.0023   & 164.6086   & 197.1601  \\\\\n",
       "\t497 & 2020-02-10 & 213.06     & 334.0389   & 171.0160   & 201.8525   & 167.9478   & 183.8048   & 241.3207   & 110.8956   & 198.5085   & ...        & 206.1627   & 124.2383   & 92.09282   & 131.4464   & 154.0973   & 292.9699   & 348.9527   & 364.7651   & 170.9064   & 198.6429  \\\\\n",
       "\t498 & 2020-02-11 & 207.19     & 344.0230   & 168.8828   & 204.0445   & 169.0395   & 189.4574   & 235.0420   & 113.0062   & 193.3878   & ...        & 215.2830   & 127.3918   & 90.87736   & 131.7964   & 155.5653   & 288.1454   & 350.6193   & 363.7457   & 173.8177   & 198.8484  \\\\\n",
       "\t499 & 2020-02-12 & 210.76     & 335.4923   & 169.4725   & 198.5759   & 167.6559   & 197.1132   & 239.9137   & 111.7324   & 194.1799   & ...        & 216.0543   & 130.7836   & 87.80600   & 129.7025   & 157.2156   & 286.8950   & 346.8715   & 371.4887   & 172.6899   & 199.4290  \\\\\n",
       "\t500 & 2020-02-13 & 213.14     & 330.5760   & 169.0630   & 194.9054   & 166.5975   & 193.8874   & 236.8107   & 111.4269   & 198.3291   & ...        & 214.0810   & 130.7535   & 92.27906   & 128.5421   & 159.5029   & 295.1180   & 342.6298   & 359.1652   & 173.6375   & 199.6777  \\\\\n",
       "\\end{tabular}\n"
      ],
      "text/markdown": [
       "\n",
       "| <!--/--> | X1 | X2 | X3 | X4 | X5 | X6 | X7 | X8 | X9 | X10 | ... | X41 | X42 | X43 | X44 | X45 | X46 | X47 | X48 | X49 | X50 |\n",
       "|---|---|---|---|---|---|---|---|---|---|---|---|---|---|---|---|---|---|---|---|---|---|\n",
       "| 495 | 2020-02-06 | 210.85     | 343.1984   | 167.9008   | 214.1528   | 176.1501   | 185.8090   | 242.7284   | 113.2791   | 203.1888   | ...        | 201.4199   | 123.1805   | 99.28669   | 132.4078   | 159.5420   | 287.2691   | 340.1109   | 362.4138   | 166.3389   | 197.2244   |\n",
       "| 496 | 2020-02-07 | 212.33     | 331.7684   | 173.4711   | 211.7074   | 168.8941   | 183.0167   | 238.8413   | 110.6409   | 195.4709   | ...        | 201.7620   | 122.5414   | 94.39965   | 134.5309   | 156.4347   | 289.8464   | 336.6686   | 362.0023   | 164.6086   | 197.1601   |\n",
       "| 497 | 2020-02-10 | 213.06     | 334.0389   | 171.0160   | 201.8525   | 167.9478   | 183.8048   | 241.3207   | 110.8956   | 198.5085   | ...        | 206.1627   | 124.2383   | 92.09282   | 131.4464   | 154.0973   | 292.9699   | 348.9527   | 364.7651   | 170.9064   | 198.6429   |\n",
       "| 498 | 2020-02-11 | 207.19     | 344.0230   | 168.8828   | 204.0445   | 169.0395   | 189.4574   | 235.0420   | 113.0062   | 193.3878   | ...        | 215.2830   | 127.3918   | 90.87736   | 131.7964   | 155.5653   | 288.1454   | 350.6193   | 363.7457   | 173.8177   | 198.8484   |\n",
       "| 499 | 2020-02-12 | 210.76     | 335.4923   | 169.4725   | 198.5759   | 167.6559   | 197.1132   | 239.9137   | 111.7324   | 194.1799   | ...        | 216.0543   | 130.7836   | 87.80600   | 129.7025   | 157.2156   | 286.8950   | 346.8715   | 371.4887   | 172.6899   | 199.4290   |\n",
       "| 500 | 2020-02-13 | 213.14     | 330.5760   | 169.0630   | 194.9054   | 166.5975   | 193.8874   | 236.8107   | 111.4269   | 198.3291   | ...        | 214.0810   | 130.7535   | 92.27906   | 128.5421   | 159.5029   | 295.1180   | 342.6298   | 359.1652   | 173.6375   | 199.6777   |\n",
       "\n"
      ],
      "text/plain": [
       "    X1         X2     X3       X4       X5       X6       X7       X8      \n",
       "495 2020-02-06 210.85 343.1984 167.9008 214.1528 176.1501 185.8090 242.7284\n",
       "496 2020-02-07 212.33 331.7684 173.4711 211.7074 168.8941 183.0167 238.8413\n",
       "497 2020-02-10 213.06 334.0389 171.0160 201.8525 167.9478 183.8048 241.3207\n",
       "498 2020-02-11 207.19 344.0230 168.8828 204.0445 169.0395 189.4574 235.0420\n",
       "499 2020-02-12 210.76 335.4923 169.4725 198.5759 167.6559 197.1132 239.9137\n",
       "500 2020-02-13 213.14 330.5760 169.0630 194.9054 166.5975 193.8874 236.8107\n",
       "    X9       X10      ... X41      X42      X43      X44      X45      X46     \n",
       "495 113.2791 203.1888 ... 201.4199 123.1805 99.28669 132.4078 159.5420 287.2691\n",
       "496 110.6409 195.4709 ... 201.7620 122.5414 94.39965 134.5309 156.4347 289.8464\n",
       "497 110.8956 198.5085 ... 206.1627 124.2383 92.09282 131.4464 154.0973 292.9699\n",
       "498 113.0062 193.3878 ... 215.2830 127.3918 90.87736 131.7964 155.5653 288.1454\n",
       "499 111.7324 194.1799 ... 216.0543 130.7836 87.80600 129.7025 157.2156 286.8950\n",
       "500 111.4269 198.3291 ... 214.0810 130.7535 92.27906 128.5421 159.5029 295.1180\n",
       "    X47      X48      X49      X50     \n",
       "495 340.1109 362.4138 166.3389 197.2244\n",
       "496 336.6686 362.0023 164.6086 197.1601\n",
       "497 348.9527 364.7651 170.9064 198.6429\n",
       "498 350.6193 363.7457 173.8177 198.8484\n",
       "499 346.8715 371.4887 172.6899 199.4290\n",
       "500 342.6298 359.1652 173.6375 199.6777"
      ]
     },
     "metadata": {},
     "output_type": "display_data"
    }
   ],
   "source": [
    "for(j in 3:(ncol(df_mc)-1)){\n",
    "  df_mc[249,j] = df_mc[249,2]\n",
    "    \n",
    "  for(i in 250:500){\n",
    "    df_mc[i, j] = df_mc[i-1,j]*(1 + mu + sigma*rnorm(1,0,1))\n",
    "  }\n",
    "}\n",
    "\n",
    "df_mc[,nb_mc] = apply(X=df_mc[,3:(nb_mc-1)], FUN='mean', MARGIN = 1)\n",
    "\n",
    "tail(df_mc)"
   ]
  },
  {
   "cell_type": "markdown",
   "metadata": {},
   "source": [
    "We use the function **melt()** to create a simpler way to plot all of the simulated path on the same graph along with the real price path. It's optional it is not necessary for you to know it. "
   ]
  },
  {
   "cell_type": "code",
   "execution_count": 6,
   "metadata": {},
   "outputs": [
    {
     "name": "stderr",
     "output_type": "stream",
     "text": [
      "Warning message:\n",
      "\"Removed 11904 rows containing missing values (geom_path).\""
     ]
    },
    {
     "data": {
      "image/png": "[encoded data removed]",
      "text/plain": [
       "plot without title"
      ]
     },
     "metadata": {},
     "output_type": "display_data"
    }
   ],
   "source": [
    "new_df = melt(df_mc, id='X1')\n",
    "\n",
    "p = ggplot() + geom_line(data=new_df, aes(x=X1, y=value, colour=variable))\n",
    "p"
   ]
  },
  {
   "cell_type": "markdown",
   "metadata": {},
   "source": [
    "We plot then the average value of all simulations alongside the real price path. You can see that it misrepresented the amount of volatility of the asset price simulated. When we compute the average we get rid of the random character in our stochastic process. \n",
    "\n",
    "It is not recommended to construct a portfolio strategy based on a simple Monte-Carlo estimation of future prices with the GBM. However, Monte-Carlo have more utility in order regards. For pricing options for instance."
   ]
  },
  {
   "cell_type": "code",
   "execution_count": 7,
   "metadata": {},
   "outputs": [
    {
     "name": "stderr",
     "output_type": "stream",
     "text": [
      "Don't know how to automatically pick scale for object of type xts/zoo. Defaulting to continuous.\n",
      "Warning message:\n",
      "\"Removed 248 rows containing missing values (geom_path).\""
     ]
    },
    {
     "data": {
      "image/png": "[encoded data removed]",
      "text/plain": [
       "plot without title"
      ]
     },
     "metadata": {},
     "output_type": "display_data"
    }
   ],
   "source": [
    "p1 <- ggplot() + geom_line(data=df_mc, aes(x=df_mc[,1], y=df_mc[,2])) +\n",
    "  geom_line(data=df_mc, aes(x=df_mc[,1], df_mc[,nb_mc]), color='deepskyblue4') \n",
    "p1"
   ]
  },
  {
   "cell_type": "markdown",
   "metadata": {},
   "source": [
    "### 2. Pricing options with Monte-Carlo and Black-Scholes formula\n",
    "\n",
    "In order to create a personnal function in R we use **function()**. \n",
    "\n",
    "Usually, we input parameters of the function between parentheses and develop the computation of the function between brackets. A metaphorical example: \n",
    "\n",
    "`my_function <- function(my_parameters){\n",
    "do_stuff_with = my_paramters \n",
    "return (do_stuff_with)    \n",
    "} \n",
    "`\n",
    "\n",
    "Here, we tackle first how to make a pricer for European option (call and put) by using the BlackScholes formula. Just as a reminder: \n",
    "\n",
    "<br>\n",
    "<center> $ C_t = S_t N(d1) - exp^{-r_f (T-t)} K N(d2) $ </center>\n",
    "<br>\n",
    "<center> $ P_t = exp^{-r_f (T-t)} K N(-d2) - S_t N(-d1) $ </center>\n",
    "<br>\n",
    "<center> $ d1 = \\frac{ln(S_t/K)+(r_f+\\frac{\\sigma^2}{2})(T-t)}{\\sigma \\sqrt{T-t}} $ </center>\n",
    "<br>\n",
    "<center> $ d2 = d1 - \\sigma \\sqrt{T-t} $ </center>\n",
    "<br>\n",
    "\n",
    "We rewrite the mathematical formula in R code and add an *if* loop in our function to accept both calls and puts pricing. There it is you have wrote your first BlackScholes pricer ! "
   ]
  },
  {
   "cell_type": "code",
   "execution_count": 8,
   "metadata": {},
   "outputs": [
    {
     "data": {
      "text/html": [
       "7.68836536308709"
      ],
      "text/latex": [
       "7.68836536308709"
      ],
      "text/markdown": [
       "7.68836536308709"
      ],
      "text/plain": [
       "[1] 7.688365"
      ]
     },
     "metadata": {},
     "output_type": "display_data"
    }
   ],
   "source": [
    "# use of monte-carlo method for pricing options \n",
    "#Black Scholes \n",
    "my_blackscholes <- function(S,K,rf,t, sigma, option_type){\n",
    "    \n",
    "  d1 = (log(S/K)+(rf+(sigma**2)/2)*t)/(sigma*sqrt(t))\n",
    "  d2 = d1 - sigma*sqrt(t)\n",
    "    \n",
    "  if (option_type=='call'){\n",
    "    BS = S*pnorm(d1)-K*pnorm(d2)*exp(-rf*t)\n",
    "  } else {\n",
    "    BS = K*pnorm(-d2)*exp(-rf*t) - S*pnorm(-d1)\n",
    "  }\n",
    "    \n",
    "  return(BS)\n",
    "} \n",
    "\n",
    "\n",
    "my_blackscholes(100, 100, 0.04, 2, 0.01, 'call')"
   ]
  },
  {
   "cell_type": "markdown",
   "metadata": {},
   "source": [
    "The Monte-Carlo pricer is going to be a bit more complex than the BlackScholes. \n",
    "\n",
    "We can skip the *for* loop because the function `rnorm()` allows us to sample as much as we want from the normal distribution. Also, we now don't care about the path of the simulated price (as opposed as earlier when we needed to see the price path), this is why we call European option path-independent. \n",
    "\n",
    "Since the European option is not path-dependant we don't need to have an iterative construction of the price between now and the maturity. We solve the differential equation in order to get an equation linking today's price to the price at maturity. \n",
    "\n",
    "$ dS_t = S_t(\\mu dt + \\sigma dB_t)$ \n",
    "\n",
    "We assume that $X_t = ln(S_t)$ \n",
    "\n",
    "So, using Ito's lemma: \n",
    "\n",
    "$dX_t = \\frac{\\partial X_t}{\\partial t}dt + \\frac{\\partial X_t}{\\partial S_t}dS_t + \\frac{1}{2}\\frac{\\partial^2 X_t}{\\partial S_t^2}(dS_t)^2 $ \n",
    "\n",
    "We will see in class how to develop this expression. \n",
    "\n",
    "So the closed-form formula for simulating price at any time $t$ is: \n",
    "\n",
    "<br>\n",
    "<center>$ S_t = S_0  e^{(r_f -\\frac{\\sigma^2}{2})t + \\sigma \\sqrt{t}  \\epsilon}   $</center>\n",
    "<br>\n",
    "\n",
    "When we write `rnorm(10000, 0,1)` we sample 10000 nubmer from a N(0,1) law. So we just need to use the function `mean()` to average the 10000 values obtained and we have our simulated price at time $t$ ! \n",
    "\n",
    "For Monte-Carlo we precise that: \n",
    "\n",
    "<br>\n",
    "<center>$ C_t = max(S_t-K, 0) $ </center>\n",
    "<br>\n",
    "\n",
    "<center>$ P_t = max(K-S_t, 0) $ </center>\n",
    "<br>\n",
    "\n",
    "By adding an *if* loop we make our Monte-Carlo pricer for both call and put options. "
   ]
  },
  {
   "cell_type": "code",
   "execution_count": 9,
   "metadata": {},
   "outputs": [
    {
     "data": {
      "text/html": [
       "7.68875412460037"
      ],
      "text/latex": [
       "7.68875412460037"
      ],
      "text/markdown": [
       "7.68875412460037"
      ],
      "text/plain": [
       "[1] 7.688754"
      ]
     },
     "metadata": {},
     "output_type": "display_data"
    }
   ],
   "source": [
    "# monte carlo\n",
    "my_montecarlo_pricer <- function(nb_simu, S0, K, t, rf, sigma, option_type){\n",
    "  drift = (rf-(sigma**2)/2)*t\n",
    "  shock = sigma*sqrt(t)\n",
    "  St = S0*exp(drift + shock*rnorm(nb_simu,0,1))\n",
    "  \n",
    "  if (option_type=='call'){\n",
    "    MC = mean(pmax((St-K),0)*exp(-rf*t))\n",
    "  } else {\n",
    "    MC = mean(pmax((K-St),0)*exp(-rf*t))\n",
    "  }\n",
    "  return(MC)\n",
    "} \n",
    "my_montecarlo_pricer(100000, 100,100,2,0.04,0.01,'call')\n"
   ]
  },
  {
   "cell_type": "markdown",
   "metadata": {},
   "source": [
    "It is also interesting to know how fast Monte-Carlo method converges to the \"real\" value of an option (here the real value is the one given by BS). \n",
    "\n",
    "In order to check it we follow the following procedure: \n",
    "\n",
    "We are going to compute both MC and BS for a growing number of **my_simu**. The BS will not change since it's not dependent on simulations. But the value of the MC pricer will. \n",
    "\n",
    "First, we create a list of growing numbers, starting from 100 and with a step of 200, for 1000 points. \n",
    "\n",
    "In a dataframe created for this (**data_option**) we store the values of MC and BS for each interation of i in my_simu. \n",
    "\n",
    "Finally, we plot both BS and MC for all numbers of simulations. "
   ]
  },
  {
   "cell_type": "code",
   "execution_count": 10,
   "metadata": {},
   "outputs": [
    {
     "data": {
      "image/png": "[encoded data removed]",
      "text/plain": [
       "plot without title"
      ]
     },
     "metadata": {},
     "output_type": "display_data"
    }
   ],
   "source": [
    "#compare monte-carlo and black scholes\n",
    "simu_graph = 1000\n",
    "data_option = data.frame(matrix(nrow=simu_graph, ncol=3))\n",
    "\n",
    "my_simu = list()\n",
    "my_simu[1] = 100\n",
    "for (i in 2:simu_graph){\n",
    "  my_simu[i] = as.numeric(my_simu[(i-1)]) + 200\n",
    "}\n",
    "\n",
    "r=1\n",
    "for (i in my_simu){\n",
    "  data_option[r,1] = i\n",
    "  data_option[r,2] = my_blackscholes(100,100,0.04,2,0.01,'call')\n",
    "  data_option[r,3] = my_montecarlo_pricer(i, 100,100,2,0.04,0.01,'call')\n",
    "  r = r+1\n",
    "}\n",
    "colnames(data_option)=c('nb_simu', 'bs', 'mc')\n",
    "\n",
    "p <- ggplot(data=data_option, aes(x=nb_simu)) +\n",
    "  geom_line(aes(y=bs), color='darkred') +\n",
    "  geom_line(aes(y=mc), color='orange2')\n",
    "p \n",
    "  "
   ]
  },
  {
   "cell_type": "markdown",
   "metadata": {},
   "source": [
    "We can see that the convergence process is relatively quick. It needs 50000 simulations to have an error situated between -0.025 and +0.025\n",
    "\n",
    "We can also create a function that gives us the Greeks for a European option. We can get the formula and just translate them into R code: \n",
    "\n",
    "For Call options: \n",
    "\n",
    "<br>\n",
    "\n",
    "<center>$ \\Delta_{call} = N(d1) $</center>\n",
    "\n",
    "<br>\n",
    "\n",
    "<center>$  V_{call} =  S \\phi(d1) \\sqrt{T-t}  $</center>\n",
    "\n",
    "<br>\n",
    "\n",
    "<center>$ \\rho_{call} = K (T-t) e^{-r_f(T-t)} \\phi(d2)$</center>\n",
    "\n",
    "<br>\n",
    "\n",
    "<center>$ \\Theta_{call} = -S_t \\sigma \\frac{N(d1)}{2 \\sqrt{T-t}} - r_f K e^{-r_f(T-t)}\\phi(d2)$</center>\n",
    "\n",
    "<br>\n",
    "\n",
    "<center>$ \\Gamma_{call} = \\frac{N(d1)}{S_t \\sigma \\sqrt{T-t}}$</center>\n",
    "\n",
    "<br>\n",
    "\n",
    "And for Put Options: \n",
    "\n",
    "<br>\n",
    "\n",
    "<center>$ \\Delta_{put} = -N(-d1) $</center>\n",
    "\n",
    "<br>\n",
    "\n",
    "<center>$  V_{put} =  S \\phi(d1) \\sqrt{T-t}  $</center>\n",
    "\n",
    "<br>\n",
    "\n",
    "<center>$ \\rho_{put} = -K (T-t) e^{-r_f(T-t)} \\phi(-d2)$</center>\n",
    "\n",
    "<br>\n",
    "\n",
    "<center>$ \\Theta_{put} = -S_t \\sigma \\frac{N(-d1)}{2 \\sqrt{T-t}} + r_f K e^{-r_f(T-t)}\\phi(-d2)$</center>\n",
    "\n",
    "<br>\n",
    "\n",
    "<center>$ \\Gamma_{put} = \\frac{N(d1)}{S_t \\sigma \\sqrt{T-t}}$</center>\n"
   ]
  },
  {
   "cell_type": "code",
   "execution_count": 11,
   "metadata": {
    "scrolled": true
   },
   "outputs": [
    {
     "data": {
      "text/html": [
       "<dl>\n",
       "\t<dt>$delta</dt>\n",
       "\t\t<dd>0.737740859893462</dd>\n",
       "\t<dt>$vega</dt>\n",
       "\t\t<dd>46.076600650611</dd>\n",
       "\t<dt>$rho</dt>\n",
       "\t\t<dd>127.333012155573</dd>\n",
       "\t<dt>$theta</dt>\n",
       "\t\t<dd>-3.69857525937674</dd>\n",
       "\t<dt>$gamma</dt>\n",
       "\t\t<dd>0.0230383003253055</dd>\n",
       "</dl>\n"
      ],
      "text/latex": [
       "\\begin{description}\n",
       "\\item[\\$delta] 0.737740859893462\n",
       "\\item[\\$vega] 46.076600650611\n",
       "\\item[\\$rho] 127.333012155573\n",
       "\\item[\\$theta] -3.69857525937674\n",
       "\\item[\\$gamma] 0.0230383003253055\n",
       "\\end{description}\n"
      ],
      "text/markdown": [
       "$delta\n",
       ":   0.737740859893462\n",
       "$vega\n",
       ":   46.076600650611\n",
       "$rho\n",
       ":   127.333012155573\n",
       "$theta\n",
       ":   -3.69857525937674\n",
       "$gamma\n",
       ":   0.0230383003253055\n",
       "\n",
       "\n"
      ],
      "text/plain": [
       "$delta\n",
       "[1] 0.7377409\n",
       "\n",
       "$vega\n",
       "[1] 46.0766\n",
       "\n",
       "$rho\n",
       "[1] 127.333\n",
       "\n",
       "$theta\n",
       "[1] -3.698575\n",
       "\n",
       "$gamma\n",
       "[1] 0.0230383\n"
      ]
     },
     "metadata": {},
     "output_type": "display_data"
    }
   ],
   "source": [
    "# how to get greeks from bs and montecarlo\n",
    "my_bs_greeks <- function(S, K, rf, t, sigma, option_type){\n",
    "  d1 = (log(S/K)+(rf+(sigma**2)/2)*t)/(sigma*sqrt(t))\n",
    "  d2 = d1 - (sigma*sqrt(t))\n",
    "  \n",
    "  if (option_type=='call'){\n",
    "    delta = pnorm(d1)\n",
    "    vega = S*dnorm(d1)*sqrt(t)\n",
    "    rho = K*t*exp(-rf*t)*pnorm(d2)\n",
    "    theta = -S*sigma*dnorm(d1)/(2*sqrt(t))-rf*K*exp(-rf*t)*pnorm(d2)\n",
    "    gamma = dnorm(d1)/(sigma*sqrt(t)*S)\n",
    "  } else if(option_type=='put') {\n",
    "    delta = - pnorm(-d1)\n",
    "    vega = S*dnorm(d1)*sqrt(t)\n",
    "    rho = -K*t*exp(-rf*t)*pnorm(-d2)\n",
    "    theta = -S*sigma/(2*sqrt(t))*dnorm(-d1)+rf*K*exp(-rf*t)*pnorm(-d2)\n",
    "    gamma = dnorm(d1)/(sigma*sqrt(t)*S)\n",
    "  }\n",
    "  return(list(delta=delta,vega=vega,rho=rho,theta=theta,gamma=gamma))\n",
    "}\n",
    "\n",
    "\n",
    "#Black_Scholes_Greeks(t=0, S=100, r=0.04, sigma=0.1, K=100, T=2)\n",
    "my_bs_greeks(S=100,K=100,rf=0.04,t=2,sigma=0.1,'call')\n"
   ]
  },
  {
   "cell_type": "markdown",
   "metadata": {},
   "source": [
    "### 3. Pricing path dependent options : Asian Options \n",
    "\n",
    "Asian option are path-dependent options since their value depend on the average value of the underlying asset over the all period considered. Formally, we define them as: \n",
    "\n",
    "<br>\n",
    "\n",
    "<center>$ C_t = max( \\frac{1}{n}\\sum \\limits_{i=1}^{n} S_i-K, 0) $</center>\n",
    "\n",
    "<br>\n",
    "\n",
    "<center>$ P_t = max( K - \\frac{1}{n}\\sum \\limits_{i=1}^{n} S_i, 0) $</center>\n",
    "\n",
    "<br>\n",
    "\n",
    "There isn't a closed form solution for Asian options so our best option is to use Monte-Carlo method in order to compute numerous price paths and average them together afterwards. \n",
    "\n",
    "We create a dataframe inside the function (`Asian_Brownian()`) that will store the value of all price paths (columns) and for all time steps (rows). Each columns is a different price path and each price paths expand over all time steps (rows). \n",
    "\n",
    "So the first *for* loop makes us go trhough all the columns. While the second loop developp all time steps for each individual column. \n",
    "\n",
    "At the end, we need to average each price paths. We use `colMeans()` from **arrayhelpers** for this purpose. And we average for all simulations, the value of this option for each particular price paths. \n",
    "\n",
    "By using the *if* loop, we allow ourselves to compute both Put and Call Asian options."
   ]
  },
  {
   "cell_type": "code",
   "execution_count": 12,
   "metadata": {},
   "outputs": [
    {
     "data": {
      "text/html": [
       "1.34674282888743"
      ],
      "text/latex": [
       "1.34674282888743"
      ],
      "text/markdown": [
       "1.34674282888743"
      ],
      "text/plain": [
       "[1] 1.346743"
      ]
     },
     "metadata": {},
     "output_type": "display_data"
    }
   ],
   "source": [
    "Asian_opt_pricer <- function(S, K, rf, t, sigma, option_type, nb_simu, time_step){\n",
    "  dt = t/time_step\n",
    "  drift = rf*dt\n",
    "  shock = sigma*sqrt(dt)\n",
    "  \n",
    "  Asian_Brownian = data.frame(matrix(nrow=time_step, ncol=nb_simu))\n",
    "  Asian_Brownian[1,] = rep(S, nb_simu)\n",
    "  \n",
    "  for(j in 1:nb_simu ){\n",
    "    for(i in 2:time_step){\n",
    "      Asian_Brownian[i,j] = Asian_Brownian[i-1,j]*(1+drift+shock*rnorm(1))\n",
    "\n",
    "    }\n",
    "  }\n",
    "  \n",
    "  pre_asian = colMeans(Asian_Brownian)\n",
    "  if(option_type=='call'){\n",
    "    asian = mean(pmax((pre_asian-K),0))\n",
    "  } else {\n",
    "    asian = mean(pmax((K-pre_asian),0))\n",
    "  }\n",
    "  return(asian)\n",
    "}\n",
    "\n",
    "\n",
    "Asian_opt_pricer(S=100, K=100, rf=0.04, t=1, sigma=0.1, option_type='put', nb_simu=1000, time_step=500)\n",
    "\n",
    "#from derivmkts\n",
    "#arithasianmc(s=100, k=100, v=0.1, r=0.04, tt=1, d=0, m=1000, numsim=2000)\n"
   ]
  },
  {
   "cell_type": "code",
   "execution_count": null,
   "metadata": {},
   "outputs": [],
   "source": []
  }
 ],
 "metadata": {
  "kernelspec": {
   "display_name": "R",
   "language": "R",
   "name": "ir"
  },
  "language_info": {
   "codemirror_mode": "r",
   "file_extension": ".r",
   "mimetype": "text/x-r-source",
   "name": "R",
   "pygments_lexer": "r",
   "version": "3.6.1"
  }
 },
 "nbformat": 4,
 "nbformat_minor": 2
}
