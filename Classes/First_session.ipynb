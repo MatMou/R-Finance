{
 "cells": [
  {
   "cell_type": "markdown",
   "metadata": {},
   "source": [
    "# R for AFA - 1st session - Introduction to R, CAPM and Brownian Motion"
   ]
  },
  {
   "cell_type": "markdown",
   "metadata": {},
   "source": [
    "## 1. Introduction to R programming "
   ]
  },
  {
   "cell_type": "markdown",
   "metadata": {},
   "source": [
    "Variables "
   ]
  },
  {
   "cell_type": "code",
   "execution_count": null,
   "metadata": {},
   "outputs": [],
   "source": [
    "x_1 = 2\n",
    "x_2 <- 2\n",
    "\n",
    "cat('x_1 is equal to:', x_1 , 'and x_2 is equal to:' , x_2) "
   ]
  },
  {
   "cell_type": "code",
   "execution_count": 2,
   "metadata": {},
   "outputs": [
    {
     "name": "stdout",
     "output_type": "stream",
     "text": [
      "[1] 6\n"
     ]
    }
   ],
   "source": [
    "y = x_1 + x_2**2 \n",
    "print(y)"
   ]
  },
  {
   "cell_type": "markdown",
   "metadata": {},
   "source": [
    "In order to do more complex operations we can require functions. \n",
    "\n",
    "We call a function by its name plus parentheses and specifying parameters inside parentheses."
   ]
  },
  {
   "cell_type": "code",
   "execution_count": 3,
   "metadata": {},
   "outputs": [
    {
     "data": {
      "text/html": [
       "2.44948974278318"
      ],
      "text/latex": [
       "2.44948974278318"
      ],
      "text/markdown": [
       "2.44948974278318"
      ],
      "text/plain": [
       "[1] 2.44949"
      ]
     },
     "metadata": {},
     "output_type": "display_data"
    },
    {
     "data": {
      "text/html": [
       "1.79175946922805"
      ],
      "text/latex": [
       "1.79175946922805"
      ],
      "text/markdown": [
       "1.79175946922805"
      ],
      "text/plain": [
       "[1] 1.791759"
      ]
     },
     "metadata": {},
     "output_type": "display_data"
    },
    {
     "data": {
      "text/html": [
       "403.428793492735"
      ],
      "text/latex": [
       "403.428793492735"
      ],
      "text/markdown": [
       "403.428793492735"
      ],
      "text/plain": [
       "[1] 403.4288"
      ]
     },
     "metadata": {},
     "output_type": "display_data"
    }
   ],
   "source": [
    "# square root \n",
    "sqrt(y)\n",
    "\n",
    "#Logarithm\n",
    "log(y)\n",
    "\n",
    "#exponential \n",
    "exp(y)"
   ]
  },
  {
   "cell_type": "markdown",
   "metadata": {},
   "source": [
    "If the function is really specific, we can call it from a package. \n",
    "\n",
    "A package is an ensemble of functions. If you use the function **library()** you can call the package and use the function it. "
   ]
  },
  {
   "cell_type": "code",
   "execution_count": 4,
   "metadata": {
    "scrolled": false
   },
   "outputs": [
    {
     "name": "stderr",
     "output_type": "stream",
     "text": [
      "Loading required package: xts\n",
      "Loading required package: zoo\n",
      "\n",
      "Attaching package: 'zoo'\n",
      "\n",
      "The following objects are masked from 'package:base':\n",
      "\n",
      "    as.Date, as.Date.numeric\n",
      "\n",
      "Registered S3 method overwritten by 'xts':\n",
      "  method     from\n",
      "  as.zoo.xts zoo \n",
      "Loading required package: TTR\n",
      "Registered S3 method overwritten by 'quantmod':\n",
      "  method            from\n",
      "  as.zoo.data.frame zoo \n",
      "Version 0.4-0 included new data defaults. See ?getSymbols.\n"
     ]
    }
   ],
   "source": [
    "# from the quantmod package\n",
    "library(quantmod)\n",
    "options(repr.plot.width=4, repr.plot.height=3)"
   ]
  },
  {
   "cell_type": "code",
   "execution_count": 5,
   "metadata": {},
   "outputs": [
    {
     "name": "stderr",
     "output_type": "stream",
     "text": [
      "'getSymbols' currently uses auto.assign=TRUE by default, but will\n",
      "use auto.assign=FALSE in 0.5-0. You will still be able to use\n",
      "'loadSymbols' to automatically load data. getOption(\"getSymbols.env\")\n",
      "and getOption(\"getSymbols.auto.assign\") will still be checked for\n",
      "alternate defaults.\n",
      "\n",
      "This message is shown once per session and may be disabled by setting \n",
      "options(\"getSymbols.warning4.0\"=FALSE). See ?getSymbols for details.\n",
      "\n"
     ]
    },
    {
     "data": {
      "text/plain": [
       "           FB.Open FB.High FB.Low FB.Close FB.Volume FB.Adjusted\n",
       "2012-05-18   42.05   45.00  38.00    38.23 573576400       38.23\n",
       "2012-05-21   36.53   36.66  33.00    34.03 168192700       34.03\n",
       "2012-05-22   32.61   33.59  30.94    31.00 101786600       31.00\n",
       "2012-05-23   31.37   32.50  31.36    32.00  73600000       32.00\n",
       "2012-05-24   32.95   33.21  31.77    33.03  50237200       33.03\n",
       "2012-05-25   32.90   32.95  31.11    31.91  37149800       31.91"
      ]
     },
     "metadata": {},
     "output_type": "display_data"
    }
   ],
   "source": [
    "x = getSymbols('FB', env=NULL) #getSymbols is a function inside quantmod package that can download prices from yahoo finance.\n",
    "head(x)"
   ]
  },
  {
   "cell_type": "markdown",
   "metadata": {},
   "source": [
    "You can create vector either by creating a matrix of 1 row or 1 column using the **matrix()** function; or by using the function **c()** that binds values together; the function **rep()** that create a vector of a repetition of a value; the function **seq()** that create a vector of an interval between two values, with a given step. "
   ]
  },
  {
   "cell_type": "code",
   "execution_count": 6,
   "metadata": {
    "scrolled": true
   },
   "outputs": [
    {
     "data": {
      "text/html": [
       "<table>\n",
       "<tbody>\n",
       "\t<tr><td>NA</td><td>NA</td><td>NA</td><td>NA</td></tr>\n",
       "</tbody>\n",
       "</table>\n"
      ],
      "text/latex": [
       "\\begin{tabular}{llll}\n",
       "\t NA & NA & NA & NA\\\\\n",
       "\\end{tabular}\n"
      ],
      "text/markdown": [
       "\n",
       "| NA | NA | NA | NA |\n",
       "\n"
      ],
      "text/plain": [
       "     [,1] [,2] [,3] [,4]\n",
       "[1,] NA   NA   NA   NA  "
      ]
     },
     "metadata": {},
     "output_type": "display_data"
    },
    {
     "data": {
      "text/html": [
       "<ol class=list-inline>\n",
       "\t<li>1</li>\n",
       "\t<li>2</li>\n",
       "\t<li>33</li>\n",
       "\t<li>21</li>\n",
       "</ol>\n"
      ],
      "text/latex": [
       "\\begin{enumerate*}\n",
       "\\item 1\n",
       "\\item 2\n",
       "\\item 33\n",
       "\\item 21\n",
       "\\end{enumerate*}\n"
      ],
      "text/markdown": [
       "1. 1\n",
       "2. 2\n",
       "3. 33\n",
       "4. 21\n",
       "\n",
       "\n"
      ],
      "text/plain": [
       "[1]  1  2 33 21"
      ]
     },
     "metadata": {},
     "output_type": "display_data"
    },
    {
     "data": {
      "text/html": [
       "<ol class=list-inline>\n",
       "\t<li>1</li>\n",
       "\t<li>1</li>\n",
       "\t<li>1</li>\n",
       "\t<li>1</li>\n",
       "\t<li>1</li>\n",
       "\t<li>1</li>\n",
       "\t<li>1</li>\n",
       "\t<li>1</li>\n",
       "\t<li>1</li>\n",
       "\t<li>1</li>\n",
       "</ol>\n"
      ],
      "text/latex": [
       "\\begin{enumerate*}\n",
       "\\item 1\n",
       "\\item 1\n",
       "\\item 1\n",
       "\\item 1\n",
       "\\item 1\n",
       "\\item 1\n",
       "\\item 1\n",
       "\\item 1\n",
       "\\item 1\n",
       "\\item 1\n",
       "\\end{enumerate*}\n"
      ],
      "text/markdown": [
       "1. 1\n",
       "2. 1\n",
       "3. 1\n",
       "4. 1\n",
       "5. 1\n",
       "6. 1\n",
       "7. 1\n",
       "8. 1\n",
       "9. 1\n",
       "10. 1\n",
       "\n",
       "\n"
      ],
      "text/plain": [
       " [1] 1 1 1 1 1 1 1 1 1 1"
      ]
     },
     "metadata": {},
     "output_type": "display_data"
    },
    {
     "data": {
      "text/html": [
       "<ol class=list-inline>\n",
       "\t<li>0</li>\n",
       "\t<li>1</li>\n",
       "\t<li>2</li>\n",
       "\t<li>3</li>\n",
       "\t<li>4</li>\n",
       "\t<li>5</li>\n",
       "\t<li>6</li>\n",
       "\t<li>7</li>\n",
       "\t<li>8</li>\n",
       "\t<li>9</li>\n",
       "\t<li>10</li>\n",
       "</ol>\n"
      ],
      "text/latex": [
       "\\begin{enumerate*}\n",
       "\\item 0\n",
       "\\item 1\n",
       "\\item 2\n",
       "\\item 3\n",
       "\\item 4\n",
       "\\item 5\n",
       "\\item 6\n",
       "\\item 7\n",
       "\\item 8\n",
       "\\item 9\n",
       "\\item 10\n",
       "\\end{enumerate*}\n"
      ],
      "text/markdown": [
       "1. 0\n",
       "2. 1\n",
       "3. 2\n",
       "4. 3\n",
       "5. 4\n",
       "6. 5\n",
       "7. 6\n",
       "8. 7\n",
       "9. 8\n",
       "10. 9\n",
       "11. 10\n",
       "\n",
       "\n"
      ],
      "text/plain": [
       " [1]  0  1  2  3  4  5  6  7  8  9 10"
      ]
     },
     "metadata": {},
     "output_type": "display_data"
    }
   ],
   "source": [
    "#matrix \n",
    "matrix(nrow=1, ncol=4)\n",
    "\n",
    "#c binds \n",
    "c(1,2,33,21)\n",
    "\n",
    "#rep\n",
    "rep(1, 10)\n",
    "\n",
    "#seq \n",
    "seq(0,10, 1)"
   ]
  },
  {
   "cell_type": "code",
   "execution_count": 7,
   "metadata": {},
   "outputs": [
    {
     "data": {
      "text/html": [
       "<ol class=list-inline>\n",
       "\t<li>1</li>\n",
       "\t<li>1</li>\n",
       "</ol>\n"
      ],
      "text/latex": [
       "\\begin{enumerate*}\n",
       "\\item 1\n",
       "\\item 1\n",
       "\\end{enumerate*}\n"
      ],
      "text/markdown": [
       "1. 1\n",
       "2. 1\n",
       "\n",
       "\n"
      ],
      "text/plain": [
       "[1] 1 1"
      ]
     },
     "metadata": {},
     "output_type": "display_data"
    },
    {
     "data": {
      "text/html": [
       "<ol class=list-inline>\n",
       "\t<li>7</li>\n",
       "\t<li>8</li>\n",
       "\t<li>9</li>\n",
       "\t<li>10</li>\n",
       "</ol>\n"
      ],
      "text/latex": [
       "\\begin{enumerate*}\n",
       "\\item 7\n",
       "\\item 8\n",
       "\\item 9\n",
       "\\item 10\n",
       "\\end{enumerate*}\n"
      ],
      "text/markdown": [
       "1. 7\n",
       "2. 8\n",
       "3. 9\n",
       "4. 10\n",
       "\n",
       "\n"
      ],
      "text/plain": [
       "[1]  7  8  9 10"
      ]
     },
     "metadata": {},
     "output_type": "display_data"
    },
    {
     "data": {
      "text/html": [
       "4"
      ],
      "text/latex": [
       "4"
      ],
      "text/markdown": [
       "4"
      ],
      "text/plain": [
       "[1] 4"
      ]
     },
     "metadata": {},
     "output_type": "display_data"
    },
    {
     "data": {
      "text/html": [
       "<ol class=list-inline>\n",
       "\t<li>1</li>\n",
       "\t<li>4</li>\n",
       "</ol>\n"
      ],
      "text/latex": [
       "\\begin{enumerate*}\n",
       "\\item 1\n",
       "\\item 4\n",
       "\\end{enumerate*}\n"
      ],
      "text/markdown": [
       "1. 1\n",
       "2. 4\n",
       "\n",
       "\n"
      ],
      "text/plain": [
       "[1] 1 4"
      ]
     },
     "metadata": {},
     "output_type": "display_data"
    }
   ],
   "source": [
    "# first 2 numbers\n",
    "head(rep(1, 10), 2)\n",
    "\n",
    "#last 4 numbers\n",
    "tail(seq(0,10, 1), 4)\n",
    "\n",
    "#length of the vector\n",
    "length(c(1,2,33,21))\n",
    "\n",
    "#Dimension of a matrix: only with matrices\n",
    "dim(matrix(nrow=1, ncol=4)) "
   ]
  },
  {
   "cell_type": "code",
   "execution_count": 8,
   "metadata": {},
   "outputs": [
    {
     "data": {
      "text/html": [
       "<table>\n",
       "<tbody>\n",
       "\t<tr><td>1</td><td>3</td></tr>\n",
       "\t<tr><td>2</td><td>4</td></tr>\n",
       "\t<tr><td>1</td><td>2</td></tr>\n",
       "\t<tr><td>2</td><td>1</td></tr>\n",
       "</tbody>\n",
       "</table>\n"
      ],
      "text/latex": [
       "\\begin{tabular}{ll}\n",
       "\t 1 & 3\\\\\n",
       "\t 2 & 4\\\\\n",
       "\t 1 & 2\\\\\n",
       "\t 2 & 1\\\\\n",
       "\\end{tabular}\n"
      ],
      "text/markdown": [
       "\n",
       "| 1 | 3 |\n",
       "| 2 | 4 |\n",
       "| 1 | 2 |\n",
       "| 2 | 1 |\n",
       "\n"
      ],
      "text/plain": [
       "     [,1] [,2]\n",
       "[1,] 1    3   \n",
       "[2,] 2    4   \n",
       "[3,] 1    2   \n",
       "[4,] 2    1   "
      ]
     },
     "metadata": {},
     "output_type": "display_data"
    },
    {
     "data": {
      "text/html": [
       "<table>\n",
       "<tbody>\n",
       "\t<tr><td>1</td><td>2</td><td>1</td><td>2</td></tr>\n",
       "\t<tr><td>3</td><td>4</td><td>2</td><td>1</td></tr>\n",
       "</tbody>\n",
       "</table>\n"
      ],
      "text/latex": [
       "\\begin{tabular}{llll}\n",
       "\t 1 & 2 & 1 & 2\\\\\n",
       "\t 3 & 4 & 2 & 1\\\\\n",
       "\\end{tabular}\n"
      ],
      "text/markdown": [
       "\n",
       "| 1 | 2 | 1 | 2 |\n",
       "| 3 | 4 | 2 | 1 |\n",
       "\n"
      ],
      "text/plain": [
       "     [,1] [,2] [,3] [,4]\n",
       "[1,] 1    2    1    2   \n",
       "[2,] 3    4    2    1   "
      ]
     },
     "metadata": {},
     "output_type": "display_data"
    },
    {
     "data": {
      "text/html": [
       "<table>\n",
       "<tbody>\n",
       "\t<tr><td>1</td><td>2</td></tr>\n",
       "\t<tr><td>2</td><td>3</td></tr>\n",
       "</tbody>\n",
       "</table>\n"
      ],
      "text/latex": [
       "\\begin{tabular}{ll}\n",
       "\t 1 & 2\\\\\n",
       "\t 2 & 3\\\\\n",
       "\\end{tabular}\n"
      ],
      "text/markdown": [
       "\n",
       "| 1 | 2 |\n",
       "| 2 | 3 |\n",
       "\n"
      ],
      "text/plain": [
       "     [,1] [,2]\n",
       "[1,] 1    2   \n",
       "[2,] 2    3   "
      ]
     },
     "metadata": {},
     "output_type": "display_data"
    }
   ],
   "source": [
    "# cbind associate two or more vectors in columns \n",
    "mat_1 = cbind(c(1,2,1,2), c(3,4,2,1))\n",
    "mat_1\n",
    "\n",
    "#rbind associate two or more vectors in rows \n",
    "mat_2 = rbind(c(1,2,1,2), c(3,4,2,1))\n",
    "mat_2\n",
    "\n",
    "# square matrix \n",
    "mat_3 = rbind(c(1,2), c(2,3))\n",
    "mat_3"
   ]
  },
  {
   "cell_type": "code",
   "execution_count": 9,
   "metadata": {},
   "outputs": [
    {
     "data": {
      "text/html": [
       "<table>\n",
       "<tbody>\n",
       "\t<tr><td>10</td><td>15</td></tr>\n",
       "\t<tr><td>15</td><td>30</td></tr>\n",
       "</tbody>\n",
       "</table>\n"
      ],
      "text/latex": [
       "\\begin{tabular}{ll}\n",
       "\t 10 & 15\\\\\n",
       "\t 15 & 30\\\\\n",
       "\\end{tabular}\n"
      ],
      "text/markdown": [
       "\n",
       "| 10 | 15 |\n",
       "| 15 | 30 |\n",
       "\n"
      ],
      "text/plain": [
       "     [,1] [,2]\n",
       "[1,] 10   15  \n",
       "[2,] 15   30  "
      ]
     },
     "metadata": {},
     "output_type": "display_data"
    },
    {
     "data": {
      "text/html": [
       "<table>\n",
       "<tbody>\n",
       "\t<tr><td>-3</td><td> 2</td></tr>\n",
       "\t<tr><td> 2</td><td>-1</td></tr>\n",
       "</tbody>\n",
       "</table>\n"
      ],
      "text/latex": [
       "\\begin{tabular}{ll}\n",
       "\t -3 &  2\\\\\n",
       "\t  2 & -1\\\\\n",
       "\\end{tabular}\n"
      ],
      "text/markdown": [
       "\n",
       "| -3 |  2 |\n",
       "|  2 | -1 |\n",
       "\n"
      ],
      "text/plain": [
       "     [,1] [,2]\n",
       "[1,] -3    2  \n",
       "[2,]  2   -1  "
      ]
     },
     "metadata": {},
     "output_type": "display_data"
    },
    {
     "data": {
      "text/html": [
       "<table>\n",
       "<tbody>\n",
       "\t<tr><td>1</td><td>2</td><td>1</td><td>2</td></tr>\n",
       "\t<tr><td>3</td><td>4</td><td>2</td><td>1</td></tr>\n",
       "</tbody>\n",
       "</table>\n"
      ],
      "text/latex": [
       "\\begin{tabular}{llll}\n",
       "\t 1 & 2 & 1 & 2\\\\\n",
       "\t 3 & 4 & 2 & 1\\\\\n",
       "\\end{tabular}\n"
      ],
      "text/markdown": [
       "\n",
       "| 1 | 2 | 1 | 2 |\n",
       "| 3 | 4 | 2 | 1 |\n",
       "\n"
      ],
      "text/plain": [
       "     [,1] [,2] [,3] [,4]\n",
       "[1,] 1    2    1    2   \n",
       "[2,] 3    4    2    1   "
      ]
     },
     "metadata": {},
     "output_type": "display_data"
    },
    {
     "data": {
      "text/html": [
       "<table>\n",
       "<tbody>\n",
       "\t<tr><td>2</td><td>4</td><td>2</td><td>4</td></tr>\n",
       "\t<tr><td>6</td><td>8</td><td>4</td><td>2</td></tr>\n",
       "</tbody>\n",
       "</table>\n"
      ],
      "text/latex": [
       "\\begin{tabular}{llll}\n",
       "\t 2 & 4 & 2 & 4\\\\\n",
       "\t 6 & 8 & 4 & 2\\\\\n",
       "\\end{tabular}\n"
      ],
      "text/markdown": [
       "\n",
       "| 2 | 4 | 2 | 4 |\n",
       "| 6 | 8 | 4 | 2 |\n",
       "\n"
      ],
      "text/plain": [
       "     [,1] [,2] [,3] [,4]\n",
       "[1,] 2    4    2    4   \n",
       "[2,] 6    8    4    2   "
      ]
     },
     "metadata": {},
     "output_type": "display_data"
    }
   ],
   "source": [
    "#Operations between matrices : watch out for dimensions of the matrices !\n",
    "\n",
    "#Multplication\n",
    "mat_2 %*% mat_1\n",
    "\n",
    "#Inverse of a matrix\n",
    "solve(mat_3)\n",
    "\n",
    "#Tranpose of a matrix\n",
    "t(mat_1)\n",
    "\n",
    "#Addition of matrices \n",
    "mat_2 + t(mat_1)"
   ]
  },
  {
   "cell_type": "code",
   "execution_count": 10,
   "metadata": {},
   "outputs": [
    {
     "data": {
      "text/html": [
       "<ol>\n",
       "\t<li>12</li>\n",
       "\t<li><ol class=list-inline>\n",
       "\t<li>1</li>\n",
       "\t<li>2</li>\n",
       "\t<li>1</li>\n",
       "</ol>\n",
       "</li>\n",
       "\t<li>'hello'</li>\n",
       "</ol>\n"
      ],
      "text/latex": [
       "\\begin{enumerate}\n",
       "\\item 12\n",
       "\\item \\begin{enumerate*}\n",
       "\\item 1\n",
       "\\item 2\n",
       "\\item 1\n",
       "\\end{enumerate*}\n",
       "\n",
       "\\item 'hello'\n",
       "\\end{enumerate}\n"
      ],
      "text/markdown": [
       "1. 12\n",
       "2. 1. 1\n",
       "2. 2\n",
       "3. 1\n",
       "\n",
       "\n",
       "\n",
       "3. 'hello'\n",
       "\n",
       "\n"
      ],
      "text/plain": [
       "[[1]]\n",
       "[1] 12\n",
       "\n",
       "[[2]]\n",
       "[1] 1 2 1\n",
       "\n",
       "[[3]]\n",
       "[1] \"hello\"\n"
      ]
     },
     "metadata": {},
     "output_type": "display_data"
    }
   ],
   "source": [
    "# lists\n",
    "\n",
    "#Create a list without anything inside a add afterwards\n",
    "l = list()\n",
    "l[[1]] = 12\n",
    "l[[2]] = c(1,2,1)\n",
    "l[[3]] = 'hello'\n",
    "l"
   ]
  },
  {
   "cell_type": "code",
   "execution_count": 11,
   "metadata": {},
   "outputs": [
    {
     "data": {
      "text/html": [
       "<ol>\n",
       "\t<li>12</li>\n",
       "\t<li><ol class=list-inline>\n",
       "\t<li>1</li>\n",
       "\t<li>2</li>\n",
       "\t<li>1</li>\n",
       "</ol>\n",
       "</li>\n",
       "\t<li>'hello'</li>\n",
       "</ol>\n"
      ],
      "text/latex": [
       "\\begin{enumerate}\n",
       "\\item 12\n",
       "\\item \\begin{enumerate*}\n",
       "\\item 1\n",
       "\\item 2\n",
       "\\item 1\n",
       "\\end{enumerate*}\n",
       "\n",
       "\\item 'hello'\n",
       "\\end{enumerate}\n"
      ],
      "text/markdown": [
       "1. 12\n",
       "2. 1. 1\n",
       "2. 2\n",
       "3. 1\n",
       "\n",
       "\n",
       "\n",
       "3. 'hello'\n",
       "\n",
       "\n"
      ],
      "text/plain": [
       "[[1]]\n",
       "[1] 12\n",
       "\n",
       "[[2]]\n",
       "[1] 1 2 1\n",
       "\n",
       "[[3]]\n",
       "[1] \"hello\"\n"
      ]
     },
     "metadata": {},
     "output_type": "display_data"
    }
   ],
   "source": [
    "#equivalently \n",
    "\n",
    "l_1 = list(12, c(1,2,1), 'hello')\n",
    "l_1"
   ]
  },
  {
   "cell_type": "code",
   "execution_count": 12,
   "metadata": {},
   "outputs": [
    {
     "name": "stdout",
     "output_type": "stream",
     "text": [
      "[1] 1\n",
      "[1] 2\n",
      "[1] 3\n",
      "[1] 4\n",
      "[1] 5\n",
      "[1] 6\n",
      "[1] 7\n",
      "[1] 8\n",
      "[1] 9\n",
      "[1] 10\n",
      "[1] \"too bad\"\n"
     ]
    }
   ],
   "source": [
    "#Loops \n",
    "\n",
    "#for \n",
    "for(i in 1:10){\n",
    "    print(i)\n",
    "}\n",
    "\n",
    "#if \n",
    "if(x_1 == 1){\n",
    "    print('Noice')\n",
    "} else if(x_1 != 2){\n",
    "    print('Smort')\n",
    "} else {\n",
    "    print('too bad')\n",
    "}\n"
   ]
  },
  {
   "cell_type": "code",
   "execution_count": 13,
   "metadata": {},
   "outputs": [
    {
     "data": {
      "text/html": [
       "<ol>\n",
       "\t<li><table>\n",
       "<tbody>\n",
       "\t<tr><td>1</td><td>1</td></tr>\n",
       "\t<tr><td>1</td><td>1</td></tr>\n",
       "</tbody>\n",
       "</table>\n",
       "</li>\n",
       "\t<li><table>\n",
       "<tbody>\n",
       "\t<tr><td>1</td><td>1</td></tr>\n",
       "\t<tr><td>1</td><td>1</td></tr>\n",
       "</tbody>\n",
       "</table>\n",
       "</li>\n",
       "\t<li><table>\n",
       "<tbody>\n",
       "\t<tr><td>1</td><td>1</td></tr>\n",
       "\t<tr><td>1</td><td>1</td></tr>\n",
       "</tbody>\n",
       "</table>\n",
       "</li>\n",
       "</ol>\n"
      ],
      "text/latex": [
       "\\begin{enumerate}\n",
       "\\item \\begin{tabular}{ll}\n",
       "\t 1 & 1\\\\\n",
       "\t 1 & 1\\\\\n",
       "\\end{tabular}\n",
       "\n",
       "\\item \\begin{tabular}{ll}\n",
       "\t 1 & 1\\\\\n",
       "\t 1 & 1\\\\\n",
       "\\end{tabular}\n",
       "\n",
       "\\item \\begin{tabular}{ll}\n",
       "\t 1 & 1\\\\\n",
       "\t 1 & 1\\\\\n",
       "\\end{tabular}\n",
       "\n",
       "\\end{enumerate}\n"
      ],
      "text/markdown": [
       "1. \n",
       "| 1 | 1 |\n",
       "| 1 | 1 |\n",
       "\n",
       "\n",
       "2. \n",
       "| 1 | 1 |\n",
       "| 1 | 1 |\n",
       "\n",
       "\n",
       "3. \n",
       "| 1 | 1 |\n",
       "| 1 | 1 |\n",
       "\n",
       "\n",
       "\n",
       "\n"
      ],
      "text/plain": [
       "[[1]]\n",
       "     [,1] [,2]\n",
       "[1,]    1    1\n",
       "[2,]    1    1\n",
       "\n",
       "[[2]]\n",
       "     [,1] [,2]\n",
       "[1,]    1    1\n",
       "[2,]    1    1\n",
       "\n",
       "[[3]]\n",
       "     [,1] [,2]\n",
       "[1,]    1    1\n",
       "[2,]    1    1\n"
      ]
     },
     "metadata": {},
     "output_type": "display_data"
    }
   ],
   "source": [
    "# Combine list and loop to create tensors \n",
    "my_tensor = list()\n",
    "for(i in 1:3){\n",
    "    my_tensor[[i]] = matrix(1, nrow=2, ncol=2)\n",
    "}\n",
    "\n",
    "my_tensor"
   ]
  },
  {
   "cell_type": "code",
   "execution_count": 14,
   "metadata": {},
   "outputs": [
    {
     "data": {
      "text/html": [
       "<ol>\n",
       "\t<li><table>\n",
       "<tbody>\n",
       "\t<tr><td>1</td><td>1</td></tr>\n",
       "\t<tr><td>1</td><td>1</td></tr>\n",
       "</tbody>\n",
       "</table>\n",
       "</li>\n",
       "\t<li><table>\n",
       "<tbody>\n",
       "\t<tr><td>1</td><td>1</td></tr>\n",
       "\t<tr><td>1</td><td>1</td></tr>\n",
       "</tbody>\n",
       "</table>\n",
       "</li>\n",
       "\t<li><table>\n",
       "<tbody>\n",
       "\t<tr><td>1</td><td>1</td></tr>\n",
       "\t<tr><td>1</td><td>1</td></tr>\n",
       "</tbody>\n",
       "</table>\n",
       "</li>\n",
       "</ol>\n"
      ],
      "text/latex": [
       "\\begin{enumerate}\n",
       "\\item \\begin{tabular}{ll}\n",
       "\t 1 & 1\\\\\n",
       "\t 1 & 1\\\\\n",
       "\\end{tabular}\n",
       "\n",
       "\\item \\begin{tabular}{ll}\n",
       "\t 1 & 1\\\\\n",
       "\t 1 & 1\\\\\n",
       "\\end{tabular}\n",
       "\n",
       "\\item \\begin{tabular}{ll}\n",
       "\t 1 & 1\\\\\n",
       "\t 1 & 1\\\\\n",
       "\\end{tabular}\n",
       "\n",
       "\\end{enumerate}\n"
      ],
      "text/markdown": [
       "1. \n",
       "| 1 | 1 |\n",
       "| 1 | 1 |\n",
       "\n",
       "\n",
       "2. \n",
       "| 1 | 1 |\n",
       "| 1 | 1 |\n",
       "\n",
       "\n",
       "3. \n",
       "| 1 | 1 |\n",
       "| 1 | 1 |\n",
       "\n",
       "\n",
       "\n",
       "\n"
      ],
      "text/plain": [
       "[[1]]\n",
       "     [,1] [,2]\n",
       "[1,]    1    1\n",
       "[2,]    1    1\n",
       "\n",
       "[[2]]\n",
       "     [,1] [,2]\n",
       "[1,]    1    1\n",
       "[2,]    1    1\n",
       "\n",
       "[[3]]\n",
       "     [,1] [,2]\n",
       "[1,]    1    1\n",
       "[2,]    1    1\n"
      ]
     },
     "metadata": {},
     "output_type": "display_data"
    }
   ],
   "source": [
    "# or function lapply works fine as well \n",
    "my_tensor_2 = lapply(1:3, function(x) matrix(1, nrow=2, ncol=2))\n",
    "my_tensor_2"
   ]
  },
  {
   "cell_type": "markdown",
   "metadata": {},
   "source": [
    "We are more or less ready to go more in details for our R programming for finance."
   ]
  },
  {
   "cell_type": "markdown",
   "metadata": {},
   "source": [
    "## 2. Develop the CAPM "
   ]
  },
  {
   "cell_type": "code",
   "execution_count": 15,
   "metadata": {},
   "outputs": [
    {
     "name": "stderr",
     "output_type": "stream",
     "text": [
      "Registered S3 methods overwritten by 'ggplot2':\n",
      "  method         from \n",
      "  [.quosures     rlang\n",
      "  c.quosures     rlang\n",
      "  print.quosures rlang\n"
     ]
    }
   ],
   "source": [
    "library(quantmod)\n",
    "library(ggplot2)\n",
    "library(moments)\n",
    "library(lmtest)\n",
    "options(repr.plot.width=7, repr.plot.height=3)"
   ]
  },
  {
   "cell_type": "markdown",
   "metadata": {},
   "source": [
    "We use the package **quantmod** to download free stock data from yahoo finance. \n",
    "\n",
    "The function **getSymbols()** require two parameters: the first is the ticker of the stock required. The second is **env**, we set it to NULL, in order to assign the result of the function to the variable **x_1**."
   ]
  },
  {
   "cell_type": "code",
   "execution_count": 16,
   "metadata": {},
   "outputs": [],
   "source": [
    "symbols= c('AAPL', '^DJI')\n",
    "x_1 = getSymbols(symbols[1], env=NULL)\n",
    "x_2 = getSymbols(symbols[2], env=NULL)\n",
    "rf= 0.004"
   ]
  },
  {
   "cell_type": "markdown",
   "metadata": {},
   "source": [
    "A dataframe is a matrix with column and row names. It is usually simplier to use a dataframe than a mtrix but there isn't much differences between the two. To create a dataframe we use the function **data.frame()** and input as a parameter the function **matrix()** with which we will give the dimension of the dataframe (with ncol and nrow). \n",
    "\n",
    "The function **head()** gives the first rows a vector/matrix/dataframe. Optionally, you can specify the numbers of row wanted. **tail()** give you the last rows of a vector/matrix/dataframe. You can also specify the number of rows wanted. \n",
    "\n",
    "Also, in order to get numbers inside of a dataframe we use \\[ \\]. Rows are first and columns in second. So, if we want to get the number at the second line and third column in df :  df\\[2,3\\]. If we want the complete row or column, we are just not specifying the other parameter."
   ]
  },
  {
   "cell_type": "code",
   "execution_count": 17,
   "metadata": {},
   "outputs": [
    {
     "data": {
      "text/html": [
       "<table>\n",
       "<thead><tr><th scope=col>AAPL</th><th scope=col>DJI</th></tr></thead>\n",
       "<tbody>\n",
       "\t<tr><td>221.6252</td><td>26458.31</td></tr>\n",
       "\t<tr><td>223.1175</td><td>26651.21</td></tr>\n",
       "\t<tr><td>225.1006</td><td>26773.94</td></tr>\n",
       "\t<tr><td>227.8398</td><td>26828.39</td></tr>\n",
       "\t<tr><td>223.8342</td><td>26627.48</td></tr>\n",
       "\t<tr><td>220.2016</td><td>26447.05</td></tr>\n",
       "</tbody>\n",
       "</table>\n"
      ],
      "text/latex": [
       "\\begin{tabular}{r|ll}\n",
       " AAPL & DJI\\\\\n",
       "\\hline\n",
       "\t 221.6252 & 26458.31\\\\\n",
       "\t 223.1175 & 26651.21\\\\\n",
       "\t 225.1006 & 26773.94\\\\\n",
       "\t 227.8398 & 26828.39\\\\\n",
       "\t 223.8342 & 26627.48\\\\\n",
       "\t 220.2016 & 26447.05\\\\\n",
       "\\end{tabular}\n"
      ],
      "text/markdown": [
       "\n",
       "| AAPL | DJI |\n",
       "|---|---|\n",
       "| 221.6252 | 26458.31 |\n",
       "| 223.1175 | 26651.21 |\n",
       "| 225.1006 | 26773.94 |\n",
       "| 227.8398 | 26828.39 |\n",
       "| 223.8342 | 26627.48 |\n",
       "| 220.2016 | 26447.05 |\n",
       "\n"
      ],
      "text/plain": [
       "  AAPL     DJI     \n",
       "1 221.6252 26458.31\n",
       "2 223.1175 26651.21\n",
       "3 225.1006 26773.94\n",
       "4 227.8398 26828.39\n",
       "5 223.8342 26627.48\n",
       "6 220.2016 26447.05"
      ]
     },
     "metadata": {},
     "output_type": "display_data"
    }
   ],
   "source": [
    "df = data.frame(matrix(nrow=300, ncol=2))\n",
    "df[,1] = tail(x_1[,6], 300) # here we take the last 300 observations from the 6th column\n",
    "df[,2] = tail(x_2[,6], 300)\n",
    "colnames(df)= c('AAPL', 'DJI')\n",
    "head(df)"
   ]
  },
  {
   "cell_type": "markdown",
   "metadata": {},
   "source": [
    "We create a new dataframe that will take the returns of the stock prices we stored in **df**. \n",
    "\n",
    "We compute the log returns defined as: \n",
    "\n",
    "$ ln(S_t) - ln(S_{t-1}) = ln(\\frac{S_t}{S_{t-1}}) $ \n",
    "\n",
    "We use **diff()** to compute the $X_t - X_{t-1}$. And the function **log()** to calculate $ln(X_t)$"
   ]
  },
  {
   "cell_type": "code",
   "execution_count": 18,
   "metadata": {},
   "outputs": [
    {
     "data": {
      "text/html": [
       "<table>\n",
       "<thead><tr><th scope=col>AAPL</th><th scope=col>DJI</th><th scope=col>AAPL_rf</th><th scope=col>DJI_rf</th></tr></thead>\n",
       "<tbody>\n",
       "\t<tr><td> 0.000000000 </td><td> 0.000000000 </td><td>-0.004000000 </td><td>-0.0040000000</td></tr>\n",
       "\t<tr><td> 0.006710846 </td><td> 0.007264281 </td><td> 0.002710846 </td><td> 0.0032642808</td></tr>\n",
       "\t<tr><td> 0.008849254 </td><td> 0.004594418 </td><td> 0.004849254 </td><td> 0.0005944178</td></tr>\n",
       "\t<tr><td> 0.012095119 </td><td> 0.002031673 </td><td> 0.008095119 </td><td>-0.0019683275</td></tr>\n",
       "\t<tr><td>-0.017737290 </td><td>-0.007516896 </td><td>-0.021737290 </td><td>-0.0115168956</td></tr>\n",
       "\t<tr><td>-0.016361966 </td><td>-0.006799132 </td><td>-0.020361966 </td><td>-0.0107991324</td></tr>\n",
       "</tbody>\n",
       "</table>\n"
      ],
      "text/latex": [
       "\\begin{tabular}{r|llll}\n",
       " AAPL & DJI & AAPL\\_rf & DJI\\_rf\\\\\n",
       "\\hline\n",
       "\t  0.000000000  &  0.000000000  & -0.004000000  & -0.0040000000\\\\\n",
       "\t  0.006710846  &  0.007264281  &  0.002710846  &  0.0032642808\\\\\n",
       "\t  0.008849254  &  0.004594418  &  0.004849254  &  0.0005944178\\\\\n",
       "\t  0.012095119  &  0.002031673  &  0.008095119  & -0.0019683275\\\\\n",
       "\t -0.017737290  & -0.007516896  & -0.021737290  & -0.0115168956\\\\\n",
       "\t -0.016361966  & -0.006799132  & -0.020361966  & -0.0107991324\\\\\n",
       "\\end{tabular}\n"
      ],
      "text/markdown": [
       "\n",
       "| AAPL | DJI | AAPL_rf | DJI_rf |\n",
       "|---|---|---|---|\n",
       "|  0.000000000  |  0.000000000  | -0.004000000  | -0.0040000000 |\n",
       "|  0.006710846  |  0.007264281  |  0.002710846  |  0.0032642808 |\n",
       "|  0.008849254  |  0.004594418  |  0.004849254  |  0.0005944178 |\n",
       "|  0.012095119  |  0.002031673  |  0.008095119  | -0.0019683275 |\n",
       "| -0.017737290  | -0.007516896  | -0.021737290  | -0.0115168956 |\n",
       "| -0.016361966  | -0.006799132  | -0.020361966  | -0.0107991324 |\n",
       "\n"
      ],
      "text/plain": [
       "  AAPL         DJI          AAPL_rf      DJI_rf       \n",
       "1  0.000000000  0.000000000 -0.004000000 -0.0040000000\n",
       "2  0.006710846  0.007264281  0.002710846  0.0032642808\n",
       "3  0.008849254  0.004594418  0.004849254  0.0005944178\n",
       "4  0.012095119  0.002031673  0.008095119 -0.0019683275\n",
       "5 -0.017737290 -0.007516896 -0.021737290 -0.0115168956\n",
       "6 -0.016361966 -0.006799132 -0.020361966 -0.0107991324"
      ]
     },
     "metadata": {},
     "output_type": "display_data"
    }
   ],
   "source": [
    "df_rt = data.frame(matrix(nrow=300, ncol=4))\n",
    "\n",
    "for (i in 1:2){\n",
    "  df_rt[,i] = diff(log(df[,i]))\n",
    "}\n",
    "\n",
    "df_rt[is.na(df_rt)] = 0\n",
    "df_rt[,3] = df_rt[,1] - rf\n",
    "df_rt[,4] = df_rt[,2] - rf\n",
    "\n",
    "colnames(df_rt) = c('AAPL', 'DJI','AAPL_rf', 'DJI_rf')\n",
    "\n",
    "head(df_rt)"
   ]
  },
  {
   "cell_type": "markdown",
   "metadata": {},
   "source": [
    "All linear regressions can be simply achieved with the package **lmtest**. We use the function **lm()** that is the function for linear regression. We first specify the model as $ y \\sim x_1 + x_2 + ... $. By specifying the parameter *data* we can use the columns names directly in the formula. It allows for more clarity in the code.\n",
    "\n",
    "The function **summary()** gives off all the details we need to know about the regression."
   ]
  },
  {
   "cell_type": "code",
   "execution_count": 19,
   "metadata": {},
   "outputs": [
    {
     "data": {
      "text/plain": [
       "\n",
       "Call:\n",
       "lm(formula = AAPL_rf ~ DJI_rf, data = df_rt)\n",
       "\n",
       "Residuals:\n",
       "      Min        1Q    Median        3Q       Max \n",
       "-0.062544 -0.006148  0.000304  0.005623  0.056692 \n",
       "\n",
       "Coefficients:\n",
       "             Estimate Std. Error t value Pr(>|t|)    \n",
       "(Intercept) 0.0023480  0.0007609   3.086  0.00222 ** \n",
       "DJI_rf      1.4913312  0.0715027  20.857  < 2e-16 ***\n",
       "---\n",
       "Signif. codes:  0 '***' 0.001 '**' 0.01 '*' 0.05 '.' 0.1 ' ' 1\n",
       "\n",
       "Residual standard error: 0.01231 on 298 degrees of freedom\n",
       "Multiple R-squared:  0.5935,\tAdjusted R-squared:  0.5921 \n",
       "F-statistic:   435 on 1 and 298 DF,  p-value: < 2.2e-16\n"
      ]
     },
     "metadata": {},
     "output_type": "display_data"
    }
   ],
   "source": [
    "fit = lm(AAPL_rf ~ DJI_rf, data = df_rt)\n",
    "res = summary(fit)\n",
    "res"
   ]
  },
  {
   "cell_type": "markdown",
   "metadata": {},
   "source": [
    "In order to plot we use the **plot()** function. The required parameters are the x axis, followed by the y axis and the type of graph. When the row names are dates we can use the **index()** function to call out the rownames as a vector of dates. Also, we can use the dollar sign to call of the object **res** specific data. "
   ]
  },
  {
   "cell_type": "code",
   "execution_count": 20,
   "metadata": {},
   "outputs": [
    {
     "data": {
      "image/png": "[encoded data removed]",
      "text/plain": [
       "plot without title"
      ]
     },
     "metadata": {},
     "output_type": "display_data"
    }
   ],
   "source": [
    "dates = index(res$residuals)\n",
    "plot(x= dates, res$residuals, type='l')"
   ]
  },
  {
   "cell_type": "code",
   "execution_count": 21,
   "metadata": {},
   "outputs": [
    {
     "data": {
      "image/png": "[encoded data removed]",
      "text/plain": [
       "Plot with title \"density.default(x = as.numeric(res$residuals))\""
      ]
     },
     "metadata": {},
     "output_type": "display_data"
    }
   ],
   "source": [
    "plot(density(as.numeric(res$residuals))) "
   ]
  },
  {
   "cell_type": "markdown",
   "metadata": {},
   "source": [
    "A more complex but more customizable package to plot is **ggplot2**. The procedure to plot using ggplot2 is the following. \n",
    "\n",
    "1. We always specify ggplot() \n",
    "\n",
    "2. Inside ggplot() there need to be a **data** which has to be a dataframe ! \n",
    "\n",
    "3. The **aes()** require x and y as parameters. They can be specify directly with their columns names since we specified before that they were in the dataframe in **data**. \n",
    "\n",
    "4. We specify the type of plot with **+ geom_jitter()** (dots), **+ geom_line()** (lines), **+ geom_abline()** (line which is independant from the **data** specified "
   ]
  },
  {
   "cell_type": "code",
   "execution_count": 22,
   "metadata": {},
   "outputs": [
    {
     "name": "stderr",
     "output_type": "stream",
     "text": [
      "Don't know how to automatically pick scale for object of type xts/zoo. Defaulting to continuous.\n",
      "Don't know how to automatically pick scale for object of type xts/zoo. Defaulting to continuous.\n"
     ]
    },
    {
     "data": {
      "image/png": "[encoded data removed]",
      "text/plain": [
       "plot without title"
      ]
     },
     "metadata": {},
     "output_type": "display_data"
    }
   ],
   "source": [
    "alpha = res$coefficients[1,1]\n",
    "beta = res$coefficients[2,1]\n",
    "\n",
    "p <- ggplot(data=df_rt, aes(x=DJI_rf, y=AAPL_rf)) + geom_jitter() +\n",
    "  geom_abline(aes(intercept = alpha, slope = beta), color = \"red\", size = .5) \n",
    "p"
   ]
  },
  {
   "cell_type": "markdown",
   "metadata": {},
   "source": [
    "The **geom_smooth()** function directly calls a linear regression between y and x. It is quicker but you have access to coefficients with more difficulty."
   ]
  },
  {
   "cell_type": "code",
   "execution_count": 23,
   "metadata": {},
   "outputs": [
    {
     "name": "stderr",
     "output_type": "stream",
     "text": [
      "Don't know how to automatically pick scale for object of type xts/zoo. Defaulting to continuous.\n",
      "Don't know how to automatically pick scale for object of type xts/zoo. Defaulting to continuous.\n"
     ]
    },
    {
     "data": {
      "image/png": "[encoded data removed]",
      "text/plain": [
       "plot without title"
      ]
     },
     "metadata": {},
     "output_type": "display_data"
    }
   ],
   "source": [
    "#or faster \n",
    "p1 <- ggplot(data=df_rt, aes(x=DJI_rf, y=AAPL_rf)) + geom_jitter() +\n",
    "  geom_smooth(method = \"lm\", se =F, color = \"green\", size = .5)\n",
    "p1"
   ]
  },
  {
   "cell_type": "markdown",
   "metadata": {},
   "source": [
    "## 3. Brownian Motion\n",
    "\n",
    "We start with the development of the brownian motion. \n",
    "\n",
    "Usually, Brownian motion $B_t$ is a stochastic process. We say that its increment are as follow: \n",
    "\n",
    "$ \\Delta B_t = B_{t+\\Delta t} - B_t \\approx N(0, \\Delta t)  $\n",
    "\n",
    "Often, we approximate: \n",
    "\n",
    "$dB_t = \\sqrt{\\Delta t}$\n",
    "\n",
    "Brownian motion is the foundation of stochastic processes in finance and we will use it in order to simulate the future prices of assets. We will construct and simulate a brownian motion (BM) as: \n",
    "\n",
    "$ dX_t = \\mu * dt + \\sigma * dB_t $ \n",
    "\n",
    "with:  \n",
    "\n",
    "$ dB_t = \\epsilon * \\sqrt{dt} $ \n",
    "\n",
    "and: \n",
    "\n",
    "$ \\epsilon \\sim N(0,1) $ "
   ]
  },
  {
   "cell_type": "code",
   "execution_count": 24,
   "metadata": {},
   "outputs": [],
   "source": [
    "# Constructing the brownian motion \n",
    "mu=0.01\n",
    "sigma=0.1\n",
    "t= 2\n",
    "steps = 2000\n",
    "dt =t/steps"
   ]
  },
  {
   "cell_type": "markdown",
   "metadata": {},
   "source": [
    "We specified the needed parameters for the Brownian motion. \n",
    "\n",
    "To simplify the code a maximum, we precise that our stochastic process will have a drift term which is: $\\mu dt$ and a shock term that is: $\\sigma dB_t$. We can precise that the shock term can also be: $\\sigma \\sqrt{dt} \\epsilon$"
   ]
  },
  {
   "cell_type": "code",
   "execution_count": 25,
   "metadata": {},
   "outputs": [],
   "source": [
    "drift = mu*dt\n",
    "shock = sigma*sqrt(dt)"
   ]
  },
  {
   "cell_type": "markdown",
   "metadata": {},
   "source": [
    "Since we want to create the **development** of an asset price, we need to compute the increment at each time steps: \n",
    "\n",
    "$ dX_t = X_{t+dt} - X_t $\n",
    "\n",
    "$ dX_t = \\mu * dt + \\sigma * dB_t$ \n",
    "\n",
    "By using a **for** loop we can compute the increment for each time step. \n",
    "\n",
    "We compute the random part of the brownian motion by using the function **rnorm**"
   ]
  },
  {
   "cell_type": "code",
   "execution_count": 26,
   "metadata": {},
   "outputs": [],
   "source": [
    "my_brownian = data.frame(matrix(nrow=steps, ncol=1))\n",
    "for (i in 1:steps){\n",
    "  my_brownian[i,1] = drift + shock*rnorm(1)\n",
    "}"
   ]
  },
  {
   "cell_type": "markdown",
   "metadata": {},
   "source": [
    "Once the computation is done, the remaining thing to do it is plot our results.\n",
    "\n",
    "We use the function **plot**. First we put the x axis (optional), then the y axis.\n",
    "The option $type = l$ gives off a line plot. \n",
    "You can specify the legend of the axes with **xlab** and **ylab** "
   ]
  },
  {
   "cell_type": "code",
   "execution_count": 27,
   "metadata": {},
   "outputs": [
    {
     "data": {
      "image/png": "[encoded data removed]",
      "text/plain": [
       "plot without title"
      ]
     },
     "metadata": {},
     "output_type": "display_data"
    },
    {
     "data": {
      "image/png": "[encoded data removed]",
      "text/plain": [
       "plot without title"
      ]
     },
     "metadata": {},
     "output_type": "display_data"
    },
    {
     "name": "stdout",
     "output_type": "stream",
     "text": [
      "[1] -0.01073608\n"
     ]
    },
    {
     "data": {
      "image/png": "[encoded data removed]",
      "text/plain": [
       "Plot with title \"density.default(x = my_brownian[, 1])\""
      ]
     },
     "metadata": {},
     "output_type": "display_data"
    }
   ],
   "source": [
    "plot(my_brownian[,1], type='l', ylab='Brownian Motion', xlab='time steps')\n",
    "plot(cumsum(my_brownian[,1]), type='l', ylab='Brownian Motion', xlab='time steps')\n",
    "plot(density(my_brownian[,1]))\n",
    "print(skewness(my_brownian[,1]))"
   ]
  },
  {
   "cell_type": "code",
   "execution_count": null,
   "metadata": {},
   "outputs": [],
   "source": []
  }
 ],
 "metadata": {
  "kernelspec": {
   "display_name": "R",
   "language": "R",
   "name": "ir"
  },
  "language_info": {
   "codemirror_mode": "r",
   "file_extension": ".r",
   "mimetype": "text/x-r-source",
   "name": "R",
   "pygments_lexer": "r",
   "version": "3.6.1"
  }
 },
 "nbformat": 4,
 "nbformat_minor": 2
}
