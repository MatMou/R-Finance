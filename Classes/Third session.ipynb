{
 "cells": [
  {
   "cell_type": "markdown",
   "metadata": {},
   "source": [
    "### 1. How to simulate the future price of an asset using Geometric Brownian Motion ?"
   ]
  },
  {
   "cell_type": "code",
   "execution_count": 1,
   "metadata": {},
   "outputs": [
    {
     "name": "stderr",
     "output_type": "stream",
     "text": [
      "Registered S3 methods overwritten by 'ggplot2':\n",
      "  method         from \n",
      "  [.quosures     rlang\n",
      "  c.quosures     rlang\n",
      "  print.quosures rlang\n",
      "Loading required package: xts\n",
      "Loading required package: zoo\n",
      "\n",
      "Attaching package: 'zoo'\n",
      "\n",
      "The following objects are masked from 'package:base':\n",
      "\n",
      "    as.Date, as.Date.numeric\n",
      "\n",
      "Registered S3 method overwritten by 'xts':\n",
      "  method     from\n",
      "  as.zoo.xts zoo \n",
      "Loading required package: TTR\n",
      "Registered S3 method overwritten by 'quantmod':\n",
      "  method            from\n",
      "  as.zoo.data.frame zoo \n",
      "Version 0.4-0 included new data defaults. See ?getSymbols.\n",
      "Package arrayhelpers, version 1.0-20160527\n",
      "\n",
      "If you use this package please cite it appropriately.\n",
      "   citation(\"arrayhelpers\")\n",
      "will give you the correct reference.\n",
      "\n",
      "The project homepage is http://arrayhelpers.r-forge.r-project.org/\n",
      "\n",
      "\n"
     ]
    }
   ],
   "source": [
    "library(ggplot2)\n",
    "library(quantmod)\n",
    "library(reshape)\n",
    "library(arrayhelpers)\n",
    "options(repr.plot.width=7, repr.plot.height=3)"
   ]
  },
  {
   "cell_type": "markdown",
   "metadata": {},
   "source": [
    "We start by a reminder of what Geometric Brownian Motion is. In mathematical terms: \n",
    "\n",
    "$ \\frac{dS_t}{S_t} = \\mu dt + \\sigma  \\sqrt{dt}  \\epsilon $ \n",
    "\n",
    "Please remember that $\\mu, \\sigma$ are, respectively, the mean and standard deviation of **returns**. \n",
    "\n",
    "Using the Euler-Maruyama method, we can find a approximation of the differential equation above and define $dS_t$ as being  $S_{t+1} - S_t$, we get : \n",
    "\n",
    "$ S_{t+1} = S_t(1 + \\mu dt + \\sigma \\sqrt{dt} \\epsilon) $ \n",
    "\n",
    "The procedure of Monte-Carlo in order to simulate future price is to create different *price paths* and then compute their average. We will see how well the procedure works for predicting future price of an asset. \n",
    "\n",
    "We create a dataframe that will have for first column the dates of each prices of FB. In the second row we will find the price of FB and all other columns specified by the variable **nb_mc** will be simulations. "
   ]
  },
  {
   "cell_type": "code",
   "execution_count": 2,
   "metadata": {},
   "outputs": [
    {
     "name": "stderr",
     "output_type": "stream",
     "text": [
      "'getSymbols' currently uses auto.assign=TRUE by default, but will\n",
      "use auto.assign=FALSE in 0.5-0. You will still be able to use\n",
      "'loadSymbols' to automatically load data. getOption(\"getSymbols.env\")\n",
      "and getOption(\"getSymbols.auto.assign\") will still be checked for\n",
      "alternate defaults.\n",
      "\n",
      "This message is shown once per session and may be disabled by setting \n",
      "options(\"getSymbols.warning4.0\"=FALSE). See ?getSymbols for details.\n",
      "\n"
     ]
    }
   ],
   "source": [
    "nb_mc = 50\n",
    "df_mc = data.frame(matrix(NA, nrow=500, ncol=nb_mc))\n",
    "\n",
    "x = getSymbols('FB', env=NULL )\n",
    "\n",
    "#take only the 500 last points of the data\n",
    "df_mc[,1]= tail(index(x), 500)\n",
    "df_mc[,2] = tail(x[, 6], 500)\n",
    "\n",
    "#get the mean and std of returns\n",
    "mu= mean(diff(log(df_mc[,2])), na.rm=T)\n",
    "sigma = sd(diff(log(df_mc[,2])), na.rm=T)\n"
   ]
  },
  {
   "cell_type": "markdown",
   "metadata": {},
   "source": [
    "Here the code get sligthly more messy. We need to go through each increment of the price (rows) and this each paths that we want to simulate (columns). The first loop moves us through the columns. We start from the third since the two first columns of our dataframe contains the dates and prices of FB. And up to **nb_mc** minus one because we will use the last column to compute the average of the simulations.\n",
    "\n",
    "The second loop moves us through the rows. We start from the 250th step so we get the price paths starting the 250th date. \n",
    "\n",
    "This statement: df_mc\\[249,j\\] = df_mc\\[249,2\\] insure that the initial price point for all path is the same and equal to the real price path. \n",
    "\n",
    "\n",
    "The function **apply()** allow us to use a function and generalize it for a matrix. By specifying the MARGIN parameter ( if 1: ROWS, if 2: COLUMNS). We create for the last column the average path: the result from our Monte-Carlo procedure. "
   ]
  },
  {
   "cell_type": "code",
   "execution_count": 3,
   "metadata": {},
   "outputs": [
    {
     "data": {
      "text/html": [
       "<table>\n",
       "<thead><tr><th></th><th scope=col>X1</th><th scope=col>X2</th><th scope=col>X3</th><th scope=col>X4</th><th scope=col>X5</th><th scope=col>X6</th><th scope=col>X7</th><th scope=col>X8</th><th scope=col>X9</th><th scope=col>X10</th><th scope=col>...</th><th scope=col>X41</th><th scope=col>X42</th><th scope=col>X43</th><th scope=col>X44</th><th scope=col>X45</th><th scope=col>X46</th><th scope=col>X47</th><th scope=col>X48</th><th scope=col>X49</th><th scope=col>X50</th></tr></thead>\n",
       "<tbody>\n",
       "\t<tr><th scope=row>495</th><td>2019-10-25</td><td>187.89    </td><td>177.6525  </td><td>170.7108  </td><td>128.1607  </td><td>134.2840  </td><td>228.5487  </td><td>112.6466  </td><td>186.2644  </td><td>124.3694  </td><td>...       </td><td>159.6200  </td><td>190.1508  </td><td>214.3832  </td><td>104.3724  </td><td>113.9338  </td><td>227.7319  </td><td>177.5987  </td><td>69.44411  </td><td>92.90524  </td><td>167.5570  </td></tr>\n",
       "\t<tr><th scope=row>496</th><td>2019-10-28</td><td>189.40    </td><td>176.8524  </td><td>164.7845  </td><td>131.5777  </td><td>139.6070  </td><td>220.8757  </td><td>113.0379  </td><td>185.4758  </td><td>125.4992  </td><td>...       </td><td>157.6634  </td><td>183.2790  </td><td>219.3653  </td><td>106.1204  </td><td>112.3388  </td><td>226.4118  </td><td>174.1731  </td><td>70.12870  </td><td>94.01576  </td><td>166.8329  </td></tr>\n",
       "\t<tr><th scope=row>497</th><td>2019-10-29</td><td>189.31    </td><td>172.4688  </td><td>163.3856  </td><td>135.4702  </td><td>146.1721  </td><td>224.6823  </td><td>116.6570  </td><td>186.7532  </td><td>125.7621  </td><td>...       </td><td>155.6495  </td><td>182.4136  </td><td>217.7748  </td><td>105.9485  </td><td>112.7986  </td><td>231.3297  </td><td>177.7565  </td><td>70.39082  </td><td>93.81573  </td><td>167.2227  </td></tr>\n",
       "\t<tr><th scope=row>498</th><td>2019-10-30</td><td>188.25    </td><td>173.0228  </td><td>160.2815  </td><td>131.7432  </td><td>138.2753  </td><td>227.6401  </td><td>114.9463  </td><td>192.4953  </td><td>128.1428  </td><td>...       </td><td>156.6685  </td><td>183.6111  </td><td>214.7320  </td><td>108.3364  </td><td>110.6150  </td><td>230.8918  </td><td>174.2717  </td><td>71.14651  </td><td>95.49114  </td><td>167.8214  </td></tr>\n",
       "\t<tr><th scope=row>499</th><td>2019-10-31</td><td>191.65    </td><td>176.0321  </td><td>156.8636  </td><td>129.0077  </td><td>139.1915  </td><td>230.3398  </td><td>113.7690  </td><td>199.7940  </td><td>131.0480  </td><td>...       </td><td>157.5871  </td><td>189.0691  </td><td>206.6561  </td><td>109.4422  </td><td>109.3192  </td><td>232.2002  </td><td>165.5017  </td><td>73.48273  </td><td>98.96350  </td><td>168.5133  </td></tr>\n",
       "\t<tr><th scope=row>500</th><td>2019-11-01</td><td>193.62    </td><td>166.4504  </td><td>150.5756  </td><td>130.2413  </td><td>136.5812  </td><td>229.4987  </td><td>113.8176  </td><td>208.4553  </td><td>129.8760  </td><td>...       </td><td>157.6220  </td><td>190.5625  </td><td>202.5709  </td><td>112.1151  </td><td>110.7192  </td><td>229.2804  </td><td>170.2672  </td><td>75.16687  </td><td>98.90634  </td><td>168.5618  </td></tr>\n",
       "</tbody>\n",
       "</table>\n"
      ],
      "text/latex": [
       "\\begin{tabular}{r|llllllllllllllllllllllllllllllllllllllllllllllllll}\n",
       "  & X1 & X2 & X3 & X4 & X5 & X6 & X7 & X8 & X9 & X10 & ... & X41 & X42 & X43 & X44 & X45 & X46 & X47 & X48 & X49 & X50\\\\\n",
       "\\hline\n",
       "\t495 & 2019-10-25 & 187.89     & 177.6525   & 170.7108   & 128.1607   & 134.2840   & 228.5487   & 112.6466   & 186.2644   & 124.3694   & ...        & 159.6200   & 190.1508   & 214.3832   & 104.3724   & 113.9338   & 227.7319   & 177.5987   & 69.44411   & 92.90524   & 167.5570  \\\\\n",
       "\t496 & 2019-10-28 & 189.40     & 176.8524   & 164.7845   & 131.5777   & 139.6070   & 220.8757   & 113.0379   & 185.4758   & 125.4992   & ...        & 157.6634   & 183.2790   & 219.3653   & 106.1204   & 112.3388   & 226.4118   & 174.1731   & 70.12870   & 94.01576   & 166.8329  \\\\\n",
       "\t497 & 2019-10-29 & 189.31     & 172.4688   & 163.3856   & 135.4702   & 146.1721   & 224.6823   & 116.6570   & 186.7532   & 125.7621   & ...        & 155.6495   & 182.4136   & 217.7748   & 105.9485   & 112.7986   & 231.3297   & 177.7565   & 70.39082   & 93.81573   & 167.2227  \\\\\n",
       "\t498 & 2019-10-30 & 188.25     & 173.0228   & 160.2815   & 131.7432   & 138.2753   & 227.6401   & 114.9463   & 192.4953   & 128.1428   & ...        & 156.6685   & 183.6111   & 214.7320   & 108.3364   & 110.6150   & 230.8918   & 174.2717   & 71.14651   & 95.49114   & 167.8214  \\\\\n",
       "\t499 & 2019-10-31 & 191.65     & 176.0321   & 156.8636   & 129.0077   & 139.1915   & 230.3398   & 113.7690   & 199.7940   & 131.0480   & ...        & 157.5871   & 189.0691   & 206.6561   & 109.4422   & 109.3192   & 232.2002   & 165.5017   & 73.48273   & 98.96350   & 168.5133  \\\\\n",
       "\t500 & 2019-11-01 & 193.62     & 166.4504   & 150.5756   & 130.2413   & 136.5812   & 229.4987   & 113.8176   & 208.4553   & 129.8760   & ...        & 157.6220   & 190.5625   & 202.5709   & 112.1151   & 110.7192   & 229.2804   & 170.2672   & 75.16687   & 98.90634   & 168.5618  \\\\\n",
       "\\end{tabular}\n"
      ],
      "text/markdown": [
       "\n",
       "| <!--/--> | X1 | X2 | X3 | X4 | X5 | X6 | X7 | X8 | X9 | X10 | ... | X41 | X42 | X43 | X44 | X45 | X46 | X47 | X48 | X49 | X50 |\n",
       "|---|---|---|---|---|---|---|---|---|---|---|---|---|---|---|---|---|---|---|---|---|---|\n",
       "| 495 | 2019-10-25 | 187.89     | 177.6525   | 170.7108   | 128.1607   | 134.2840   | 228.5487   | 112.6466   | 186.2644   | 124.3694   | ...        | 159.6200   | 190.1508   | 214.3832   | 104.3724   | 113.9338   | 227.7319   | 177.5987   | 69.44411   | 92.90524   | 167.5570   |\n",
       "| 496 | 2019-10-28 | 189.40     | 176.8524   | 164.7845   | 131.5777   | 139.6070   | 220.8757   | 113.0379   | 185.4758   | 125.4992   | ...        | 157.6634   | 183.2790   | 219.3653   | 106.1204   | 112.3388   | 226.4118   | 174.1731   | 70.12870   | 94.01576   | 166.8329   |\n",
       "| 497 | 2019-10-29 | 189.31     | 172.4688   | 163.3856   | 135.4702   | 146.1721   | 224.6823   | 116.6570   | 186.7532   | 125.7621   | ...        | 155.6495   | 182.4136   | 217.7748   | 105.9485   | 112.7986   | 231.3297   | 177.7565   | 70.39082   | 93.81573   | 167.2227   |\n",
       "| 498 | 2019-10-30 | 188.25     | 173.0228   | 160.2815   | 131.7432   | 138.2753   | 227.6401   | 114.9463   | 192.4953   | 128.1428   | ...        | 156.6685   | 183.6111   | 214.7320   | 108.3364   | 110.6150   | 230.8918   | 174.2717   | 71.14651   | 95.49114   | 167.8214   |\n",
       "| 499 | 2019-10-31 | 191.65     | 176.0321   | 156.8636   | 129.0077   | 139.1915   | 230.3398   | 113.7690   | 199.7940   | 131.0480   | ...        | 157.5871   | 189.0691   | 206.6561   | 109.4422   | 109.3192   | 232.2002   | 165.5017   | 73.48273   | 98.96350   | 168.5133   |\n",
       "| 500 | 2019-11-01 | 193.62     | 166.4504   | 150.5756   | 130.2413   | 136.5812   | 229.4987   | 113.8176   | 208.4553   | 129.8760   | ...        | 157.6220   | 190.5625   | 202.5709   | 112.1151   | 110.7192   | 229.2804   | 170.2672   | 75.16687   | 98.90634   | 168.5618   |\n",
       "\n"
      ],
      "text/plain": [
       "    X1         X2     X3       X4       X5       X6       X7       X8      \n",
       "495 2019-10-25 187.89 177.6525 170.7108 128.1607 134.2840 228.5487 112.6466\n",
       "496 2019-10-28 189.40 176.8524 164.7845 131.5777 139.6070 220.8757 113.0379\n",
       "497 2019-10-29 189.31 172.4688 163.3856 135.4702 146.1721 224.6823 116.6570\n",
       "498 2019-10-30 188.25 173.0228 160.2815 131.7432 138.2753 227.6401 114.9463\n",
       "499 2019-10-31 191.65 176.0321 156.8636 129.0077 139.1915 230.3398 113.7690\n",
       "500 2019-11-01 193.62 166.4504 150.5756 130.2413 136.5812 229.4987 113.8176\n",
       "    X9       X10      ... X41      X42      X43      X44      X45      X46     \n",
       "495 186.2644 124.3694 ... 159.6200 190.1508 214.3832 104.3724 113.9338 227.7319\n",
       "496 185.4758 125.4992 ... 157.6634 183.2790 219.3653 106.1204 112.3388 226.4118\n",
       "497 186.7532 125.7621 ... 155.6495 182.4136 217.7748 105.9485 112.7986 231.3297\n",
       "498 192.4953 128.1428 ... 156.6685 183.6111 214.7320 108.3364 110.6150 230.8918\n",
       "499 199.7940 131.0480 ... 157.5871 189.0691 206.6561 109.4422 109.3192 232.2002\n",
       "500 208.4553 129.8760 ... 157.6220 190.5625 202.5709 112.1151 110.7192 229.2804\n",
       "    X47      X48      X49      X50     \n",
       "495 177.5987 69.44411 92.90524 167.5570\n",
       "496 174.1731 70.12870 94.01576 166.8329\n",
       "497 177.7565 70.39082 93.81573 167.2227\n",
       "498 174.2717 71.14651 95.49114 167.8214\n",
       "499 165.5017 73.48273 98.96350 168.5133\n",
       "500 170.2672 75.16687 98.90634 168.5618"
      ]
     },
     "metadata": {},
     "output_type": "display_data"
    }
   ],
   "source": [
    "for(j in 3:(ncol(df_mc)-1)){\n",
    "  df_mc[249,j] = df_mc[249,2]\n",
    "    \n",
    "  for(i in 250:500){\n",
    "    df_mc[i, j] = df_mc[i-1,j]*(1 + mu + sigma*rnorm(1,0,1))\n",
    "  }\n",
    "}\n",
    "\n",
    "df_mc[,nb_mc] = apply(X=df_mc[,3:(nb_mc-1)], FUN='mean', MARGIN = 1)\n",
    "\n",
    "tail(df_mc)"
   ]
  },
  {
   "cell_type": "markdown",
   "metadata": {},
   "source": [
    "We use the function **melt()** to create a simpler way to plot all of the simulated path on the same graph along with the real price path. It's optional it is not necessary for you to know it. "
   ]
  },
  {
   "cell_type": "code",
   "execution_count": 4,
   "metadata": {},
   "outputs": [
    {
     "name": "stderr",
     "output_type": "stream",
     "text": [
      "Warning message:\n",
      "\"Removed 11904 rows containing missing values (geom_path).\""
     ]
    },
    {
     "data": {
      "image/png": "[encoded data removed]",
      "text/plain": [
       "plot without title"
      ]
     },
     "metadata": {},
     "output_type": "display_data"
    }
   ],
   "source": [
    "new_df = melt(df_mc, id='X1')\n",
    "\n",
    "p = ggplot() + geom_line(data=new_df, aes(x=X1, y=value, colour=variable))\n",
    "p"
   ]
  },
  {
   "cell_type": "markdown",
   "metadata": {},
   "source": [
    "We plot then the average value of all simulations alongside the real price path. You can see that it misrepresented the amount of volatility of the asset price simulated. When we compute the average we get rid of the random character in our stochastic process. \n",
    "\n",
    "It is not recommended to construct a portfolio strategy based on a simple Monte-Carlo estimation of future prices with the GBM. However, Monte-Carlo have more utility in order regards. For pricing options for instance."
   ]
  },
  {
   "cell_type": "code",
   "execution_count": 6,
   "metadata": {},
   "outputs": [
    {
     "name": "stderr",
     "output_type": "stream",
     "text": [
      "Don't know how to automatically pick scale for object of type xts/zoo. Defaulting to continuous.\n",
      "Warning message:\n",
      "\"Removed 248 rows containing missing values (geom_path).\""
     ]
    },
    {
     "data": {
      "image/png": "[encoded data removed]",
      "text/plain": [
       "plot without title"
      ]
     },
     "metadata": {},
     "output_type": "display_data"
    }
   ],
   "source": [
    "p1 <- ggplot() + geom_line(data=df_mc, aes(x=df_mc[,1], y=df_mc[,2])) +\n",
    "  geom_line(data=df_mc, aes(x=df_mc[,1], df_mc[,nb_mc]), color='deepskyblue4') \n",
    "p1"
   ]
  },
  {
   "cell_type": "markdown",
   "metadata": {},
   "source": [
    "### 2. Pricing options with Monte-Carlo and Black-Scholes formula\n",
    "\n",
    "In order to create a personnal function in R we use **function()**. \n",
    "\n",
    "Usually, we input parameters of the function between parentheses and develop the computation of the function between brackets. A metaphorical example: \n",
    "\n",
    "my_function <- function(my_parameters){\n",
    "\n",
    "do_stuff_with = my_paramters \n",
    "\n",
    "return (do_stuff_with)\n",
    "    \n",
    "} \n",
    "\n",
    "Here, we tackle first how to make a pricer for European option (call and put) by using the BlackScholes formula. Just as a reminder: \n",
    "\n",
    "$$ C_t = S_t N(d1) - exp^{-r_f (T-t)} K N(d2) $$\n",
    "\n",
    "$$ P_t = exp^{-r_f (T-t)} K N(-d2) - S_t N(-d1) $$  \n",
    "\n",
    "$$ d1 = \\frac{ln(S_t/K)+(r_f+\\frac{\\sigma^2}{2})(T-t)}{\\sigma \\sqrt{T-t}} $$\n",
    "\n",
    "$$ d2 = d1 - \\sigma \\sqrt{T-t} $$\n",
    "\n",
    "\n",
    "We rewrite the mathematical formula in R code and add an *if* loop in our function to accept both calls and puts pricing. There it is you have wrote your first BlackScholes pricer ! "
   ]
  },
  {
   "cell_type": "code",
   "execution_count": 7,
   "metadata": {},
   "outputs": [
    {
     "data": {
      "text/html": [
       "7.68836536308709"
      ],
      "text/latex": [
       "7.68836536308709"
      ],
      "text/markdown": [
       "7.68836536308709"
      ],
      "text/plain": [
       "[1] 7.688365"
      ]
     },
     "metadata": {},
     "output_type": "display_data"
    }
   ],
   "source": [
    "# use of monte-carlo method for pricing options \n",
    "#Black Scholes \n",
    "my_blackscholes <- function(S,K,rf,t, sigma, option_type){\n",
    "    \n",
    "  d1 = (log(S/K)+(rf+(sigma**2)/2)*t)/(sigma*sqrt(t))\n",
    "  d2 = d1 - sigma*sqrt(t)\n",
    "    \n",
    "  if (option_type=='call'){\n",
    "    BS = S*pnorm(d1)-K*pnorm(d2)*exp(-rf*t)\n",
    "  } else {\n",
    "    BS = K*pnorm(-d2)*exp(-rf*t) - S*pnorm(-d1)\n",
    "  }\n",
    "    \n",
    "  return(BS)\n",
    "} \n",
    "\n",
    "\n",
    "my_blackscholes(100, 100, 0.04, 2, 0.01, 'call')"
   ]
  },
  {
   "cell_type": "markdown",
   "metadata": {},
   "source": [
    "The Monte-Carlo pricer is going to be a bit more complex than the BlackScholes. \n",
    "\n",
    "We can skip the *for* loop because the function **rnorm()** allows us to sample as much as we want from the normal distribution. Also, we now don't care about the path of the simulated price (as opposed as earlier when we needed to see the price path), this is why we call European option path-independent. \n",
    "\n",
    "Since the European option is not path-dependant we don't need to have an iterative construction of the price between now and the maturity. We solve the differential equation in order to get an equation linking today's price to the price at maturity. \n",
    "\n",
    "$ dS_t = S_t(\\mu dt + \\sigma dB_t)$ \n",
    "\n",
    "We assume that $X_t = ln(S_t)$ \n",
    "\n",
    "So, using Ito's lemma: \n",
    "\n",
    "$dX_t = \\frac{\\partial X_t}{\\partial t}dt + \\frac{\\partial X_t}{\\partial S_t}dS_t + \\frac{1}{2}\\frac{\\partial^2 X_t}{\\partial S_t^2}(dS_t)^2 $ \n",
    "\n",
    "We will see in class how to develop this expression. \n",
    "\n",
    "So the closed-form formula for simulating price at any time $t$ is: \n",
    "\n",
    "$$ S_t = S_0  e^{(r_f -\\frac{\\sigma^2}{2})t + \\sigma \\sqrt{t}  \\epsilon}   $$\n",
    "\n",
    "When we write **rnorm(10000, 0,1)** we sample 10000 nubmer from a N(0,1) law. So we just need to use the function **mean()** to average the 10000 values obtained and we have our simulated price at time $t$ ! \n",
    "\n",
    "For Monte-Carlo we precise that: \n",
    "\n",
    "$$ C_t = max(S_t-K, 0) $$ \n",
    "\n",
    "$$ P_t = max(K-S_t, 0) $$ \n",
    "\n",
    "By adding an *if* loop we make our Monte-Carlo pricer for both call and put options. "
   ]
  },
  {
   "cell_type": "code",
   "execution_count": 8,
   "metadata": {},
   "outputs": [
    {
     "data": {
      "text/html": [
       "7.69067698506408"
      ],
      "text/latex": [
       "7.69067698506408"
      ],
      "text/markdown": [
       "7.69067698506408"
      ],
      "text/plain": [
       "[1] 7.690677"
      ]
     },
     "metadata": {},
     "output_type": "display_data"
    }
   ],
   "source": [
    "# monte carlo\n",
    "my_montecarlo_pricer <- function(nb_simu, S0, K, t, rf, sigma, option_type){\n",
    "  drift = (rf-(sigma**2)/2)*t\n",
    "  shock = sigma*sqrt(t)\n",
    "  St = S0*exp(drift + shock*rnorm(nb_simu,0,1))\n",
    "  \n",
    "  if (option_type=='call'){\n",
    "    MC = mean(pmax((St-K),0)*exp(-rf*t))\n",
    "  } else {\n",
    "    MC = mean(pmax((K-St),0)*exp(-rf*t))\n",
    "  }\n",
    "  return(MC)\n",
    "} \n",
    "my_montecarlo_pricer(100000, 100,100,2,0.04,0.01,'call')\n"
   ]
  },
  {
   "cell_type": "markdown",
   "metadata": {},
   "source": [
    "It is also interesting to know how fast Monte-Carlo method converges to the \"real\" value of an option (here the real value is the one given by BS). \n",
    "\n",
    "In order to check it we follow the following procedure: \n",
    "\n",
    "We are going to compute both MC and BS for a growing number of **my_simu**. The BS will not change since it's not dependent on simulations. But the value of the MC pricer will. \n",
    "\n",
    "First, we create a list of growing numbers, starting from 100 and with a step of 200, for 1000 points. \n",
    "\n",
    "In a dataframe created for this (**data_option**) we store the values of MC and BS for each interation of i in my_simu. \n",
    "\n",
    "Finally, we plot both BS and MC for all numbers of simulations. "
   ]
  },
  {
   "cell_type": "code",
   "execution_count": 9,
   "metadata": {},
   "outputs": [
    {
     "data": {
      "image/png": "[encoded data removed]",
      "text/plain": [
       "plot without title"
      ]
     },
     "metadata": {},
     "output_type": "display_data"
    }
   ],
   "source": [
    "#compare monte-carlo and black scholes\n",
    "simu_graph = 1000\n",
    "data_option = data.frame(matrix(nrow=simu_graph, ncol=3))\n",
    "\n",
    "my_simu = list()\n",
    "my_simu[1] = 100\n",
    "for (i in 2:simu_graph){\n",
    "  my_simu[i] = as.numeric(my_simu[(i-1)]) + 200\n",
    "}\n",
    "\n",
    "r=1\n",
    "for (i in my_simu){\n",
    "  data_option[r,1] = i\n",
    "  data_option[r,2] = my_blackscholes(100,100,0.04,2,0.01,'call')\n",
    "  data_option[r,3] = my_montecarlo_pricer(i, 100,100,2,0.04,0.01,'call')\n",
    "  r = r+1\n",
    "}\n",
    "colnames(data_option)=c('nb_simu', 'bs', 'mc')\n",
    "\n",
    "p <- ggplot(data=data_option, aes(x=nb_simu)) +\n",
    "  geom_line(aes(y=bs), color='darkred') +\n",
    "  geom_line(aes(y=mc), color='orange2')\n",
    "p \n",
    "  "
   ]
  },
  {
   "cell_type": "markdown",
   "metadata": {},
   "source": [
    "We can see that the convergence process is relatively quick. It needs 50000 simulations to have an error situated between -0.025 and +0.025\n",
    "\n",
    "We can also create a function that gives us the Greeks for a European option. We can get the formula and just translate them into R code: \n",
    "\n",
    "For Call options: \n",
    "$$ \\Delta_{call} = N(d1) $$\n",
    "\n",
    "$$  V_{call} =  S \\phi(d1) \\sqrt{T-t}  $$\n",
    "\n",
    "$$ \\rho_{call} = K (T-t) e^{-r_f(T-t)} \\phi(d2)$$\n",
    "\n",
    "$$ \\Theta_{call} = -S_t \\sigma \\frac{N(d1)}{2 \\sqrt{T-t}} - r_f K e^{-r_f(T-t)}\\phi(d2)$$\n",
    "\n",
    "$$ \\Gamma_{call} = \\frac{N(d1)}{S_t \\sigma \\sqrt{T-t}}$$\n",
    "\n",
    "\n",
    "And for Put Options: \n",
    "$$ \\Delta_{put} = -N(-d1) $$\n",
    "\n",
    "$$  V_{put} =  S \\phi(d1) \\sqrt{T-t}  $$\n",
    "\n",
    "$$ \\rho_{put} = -K (T-t) e^{-r_f(T-t)} \\phi(-d2)$$\n",
    "\n",
    "$$ \\Theta_{put} = -S_t \\sigma \\frac{N(-d1)}{2 \\sqrt{T-t}} + r_f K e^{-r_f(T-t)}\\phi(-d2)$$\n",
    "\n",
    "$$ \\Gamma_{put} = \\frac{N(d1)}{S_t \\sigma \\sqrt{T-t}}$$\n"
   ]
  },
  {
   "cell_type": "code",
   "execution_count": 17,
   "metadata": {
    "scrolled": true
   },
   "outputs": [
    {
     "data": {
      "text/html": [
       "<dl>\n",
       "\t<dt>$delta</dt>\n",
       "\t\t<dd>0.737740859893462</dd>\n",
       "\t<dt>$vega</dt>\n",
       "\t\t<dd>46.076600650611</dd>\n",
       "\t<dt>$rho</dt>\n",
       "\t\t<dd>127.333012155573</dd>\n",
       "\t<dt>$theta</dt>\n",
       "\t\t<dd>-3.69857525937674</dd>\n",
       "\t<dt>$gamma</dt>\n",
       "\t\t<dd>0.0230383003253055</dd>\n",
       "</dl>\n"
      ],
      "text/latex": [
       "\\begin{description}\n",
       "\\item[\\$delta] 0.737740859893462\n",
       "\\item[\\$vega] 46.076600650611\n",
       "\\item[\\$rho] 127.333012155573\n",
       "\\item[\\$theta] -3.69857525937674\n",
       "\\item[\\$gamma] 0.0230383003253055\n",
       "\\end{description}\n"
      ],
      "text/markdown": [
       "$delta\n",
       ":   0.737740859893462\n",
       "$vega\n",
       ":   46.076600650611\n",
       "$rho\n",
       ":   127.333012155573\n",
       "$theta\n",
       ":   -3.69857525937674\n",
       "$gamma\n",
       ":   0.0230383003253055\n",
       "\n",
       "\n"
      ],
      "text/plain": [
       "$delta\n",
       "[1] 0.7377409\n",
       "\n",
       "$vega\n",
       "[1] 46.0766\n",
       "\n",
       "$rho\n",
       "[1] 127.333\n",
       "\n",
       "$theta\n",
       "[1] -3.698575\n",
       "\n",
       "$gamma\n",
       "[1] 0.0230383\n"
      ]
     },
     "metadata": {},
     "output_type": "display_data"
    }
   ],
   "source": [
    "# how to get greeks from bs and montecarlo\n",
    "my_bs_greeks <- function(S, K, rf, t, sigma, option_type){\n",
    "  d1 = (log(S/K)+(rf+(sigma**2)/2)*t)/(sigma*sqrt(t))\n",
    "  d2 = d1 - (sigma*sqrt(t))\n",
    "  \n",
    "  if (option_type=='call'){\n",
    "    delta = pnorm(d1)\n",
    "    vega = S*dnorm(d1)*sqrt(t)\n",
    "    rho = K*t*exp(-rf*t)*pnorm(d2)\n",
    "    theta = -S*sigma*dnorm(d1)/(2*sqrt(t))-rf*K*exp(-rf*t)*pnorm(d2)\n",
    "    gamma = dnorm(d1)/(sigma*sqrt(t)*S)\n",
    "  } else if(option_type=='put') {\n",
    "    delta = - pnorm(-d1)\n",
    "    vega = S*dnorm(d1)*sqrt(t)\n",
    "    rho = -K*t*exp(-rf*t)*pnorm(-d2)\n",
    "    theta = -S*sigma/(2*sqrt(t))*dnorm(-d1)+rf*K*exp(-rf*t)*pnorm(-d2)\n",
    "    gamma = dnorm(d1)/(sigma*sqrt(t)*S)\n",
    "  }\n",
    "  return(list(delta=delta,vega=vega,rho=rho,theta=theta,gamma=gamma))\n",
    "}\n",
    "\n",
    "\n",
    "#Black_Scholes_Greeks(t=0, S=100, r=0.04, sigma=0.1, K=100, T=2)\n",
    "my_bs_greeks(S=100,K=100,rf=0.04,t=2,sigma=0.1,'call')\n"
   ]
  },
  {
   "cell_type": "markdown",
   "metadata": {},
   "source": [
    "### 3. Pricing path dependent options : Asian Options \n",
    "\n",
    "Asian option are path-dependent options since their value depend on the average value of the underlying asset over the all period considered. Formally, we define them as: \n",
    "\n",
    "$$ C_t = max( \\frac{1}{n}\\sum \\limits_{i=1}^{n} S_i-K, 0) $$ \n",
    "\n",
    "$$ P_t = max( K - \\frac{1}{n}\\sum \\limits_{i=1}^{n} S_i, 0) $$ \n",
    "\n",
    "There isn't a closed form solution for Asian options so our best option is to use Monte-Carlo method in order to compute numerous price paths and average them together afterwards. \n",
    "\n",
    "We create a dataframe inside the function (**Asian_Brownian**) that will store the value of all price paths (columns) and for all time steps (rows). Each columns is a different price path and each price paths expand over all time steps (rows). \n",
    "\n",
    "So the first *for* loop makes us go trhough all the columns. While the second loop developp all time steps for each individual column. \n",
    "\n",
    "At the end, we need to average each price paths. We use **colMeans()** from **arrayhelpers** for this purpose. And we average for all simulations, the value of this option for each particular price paths. \n",
    "\n",
    "By using the *if* loop, we allow ourselves to compute both Put and Call Asian options."
   ]
  },
  {
   "cell_type": "code",
   "execution_count": 8,
   "metadata": {},
   "outputs": [
    {
     "data": {
      "text/html": [
       "1.41110365142385"
      ],
      "text/latex": [
       "1.41110365142385"
      ],
      "text/markdown": [
       "1.41110365142385"
      ],
      "text/plain": [
       "[1] 1.411104"
      ]
     },
     "metadata": {},
     "output_type": "display_data"
    }
   ],
   "source": [
    "Asian_opt_pricer <- function(S, K, rf, t, sigma, option_type, nb_simu, time_step){\n",
    "  dt = t/time_step\n",
    "  drift = rf*dt\n",
    "  shock = sigma*sqrt(dt)\n",
    "  \n",
    "  Asian_Brownian = data.frame(matrix(nrow=time_step, ncol=nb_simu))\n",
    "  Asian_Brownian[1,] = rep(S, nb_simu)\n",
    "  \n",
    "  for(j in 1:nb_simu ){\n",
    "    for(i in 2:time_step){\n",
    "      Asian_Brownian[i,j] = Asian_Brownian[i-1,j]*(1+drift+shock*rnorm(1))\n",
    "\n",
    "    }\n",
    "  }\n",
    "  \n",
    "  pre_asian = colMeans(Asian_Brownian)\n",
    "  if(option_type=='call'){\n",
    "    asian = mean(pmax((pre_asian-K),0))\n",
    "  } else {\n",
    "    asian = mean(pmax((K-pre_asian),0))\n",
    "  }\n",
    "  return(asian)\n",
    "}\n",
    "\n",
    "\n",
    "Asian_opt_pricer(S=100, K=100, rf=0.04, t=1, sigma=0.1, option_type='put', nb_simu=1000, time_step=500)\n",
    "\n",
    "#from derivmkts\n",
    "#arithasianmc(s=100, k=100, v=0.1, r=0.04, tt=1, d=0, m=1000, numsim=2000)\n"
   ]
  },
  {
   "cell_type": "code",
   "execution_count": null,
   "metadata": {},
   "outputs": [],
   "source": []
  }
 ],
 "metadata": {
  "kernelspec": {
   "display_name": "R",
   "language": "R",
   "name": "ir"
  },
  "language_info": {
   "codemirror_mode": "r",
   "file_extension": ".r",
   "mimetype": "text/x-r-source",
   "name": "R",
   "pygments_lexer": "r",
   "version": "3.6.1"
  }
 },
 "nbformat": 4,
 "nbformat_minor": 2
}
